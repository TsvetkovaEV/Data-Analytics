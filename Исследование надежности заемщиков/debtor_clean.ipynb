{
 "cells": [
  {
   "cell_type": "markdown",
   "metadata": {},
   "source": [
    "## Исследование надёжности заёмщиков\n",
    "\n",
    "Заказчик — кредитный отдел банка. Нужно разобраться, влияет ли семейное положение и количество детей клиента на факт погашения кредита в срок. Входные данные от банка — статистика о платёжеспособности клиентов.\n",
    "\n",
    "Результаты исследования будут учтены при построении модели **кредитного скоринга** — специальной системы, которая оценивает способность потенциального заёмщика вернуть кредит банку."
   ]
  },
  {
   "cell_type": "markdown",
   "metadata": {},
   "source": [
    "## Содержание проекта\n",
    "\n",
    "- [Знакомство с данными и их подготовка](#the_destination)\n",
    "- [Предобработка данных](#the_destination_1)\n",
    "- [Лемматизация](#the_destination_6)\n",
    "- [Категоризация данных](#the_destination_4)\n",
    "- [Промежуточные выводы](#the_destination_5)\n",
    "- [Общий вывод](#the_destination_3)"
   ]
  },
  {
   "cell_type": "markdown",
   "metadata": {},
   "source": [
    "<a id='the_destination'></a> "
   ]
  },
  {
   "cell_type": "markdown",
   "metadata": {},
   "source": [
    "## Знакомство с данными и их подготовка"
   ]
  },
  {
   "cell_type": "code",
   "execution_count": 1,
   "metadata": {},
   "outputs": [],
   "source": [
    "import pandas as pd\n",
    "debtor_data = pd.read_csv('/datasets/data.csv')"
   ]
  },
  {
   "cell_type": "code",
   "execution_count": 2,
   "metadata": {},
   "outputs": [
    {
     "name": "stdout",
     "output_type": "stream",
     "text": [
      "<class 'pandas.core.frame.DataFrame'>\n",
      "RangeIndex: 21525 entries, 0 to 21524\n",
      "Data columns (total 12 columns):\n",
      "children            21525 non-null int64\n",
      "days_employed       19351 non-null float64\n",
      "dob_years           21525 non-null int64\n",
      "education           21525 non-null object\n",
      "education_id        21525 non-null int64\n",
      "family_status       21525 non-null object\n",
      "family_status_id    21525 non-null int64\n",
      "gender              21525 non-null object\n",
      "income_type         21525 non-null object\n",
      "debt                21525 non-null int64\n",
      "total_income        19351 non-null float64\n",
      "purpose             21525 non-null object\n",
      "dtypes: float64(2), int64(5), object(5)\n",
      "memory usage: 2.0+ MB\n",
      "None\n"
     ]
    }
   ],
   "source": [
    "print(debtor_data.info())"
   ]
  },
  {
   "cell_type": "code",
   "execution_count": 3,
   "metadata": {},
   "outputs": [
    {
     "data": {
      "text/html": [
       "<div>\n",
       "<style scoped>\n",
       "    .dataframe tbody tr th:only-of-type {\n",
       "        vertical-align: middle;\n",
       "    }\n",
       "\n",
       "    .dataframe tbody tr th {\n",
       "        vertical-align: top;\n",
       "    }\n",
       "\n",
       "    .dataframe thead th {\n",
       "        text-align: right;\n",
       "    }\n",
       "</style>\n",
       "<table border=\"1\" class=\"dataframe\">\n",
       "  <thead>\n",
       "    <tr style=\"text-align: right;\">\n",
       "      <th></th>\n",
       "      <th>children</th>\n",
       "      <th>days_employed</th>\n",
       "      <th>dob_years</th>\n",
       "      <th>education_id</th>\n",
       "      <th>family_status_id</th>\n",
       "      <th>debt</th>\n",
       "      <th>total_income</th>\n",
       "    </tr>\n",
       "  </thead>\n",
       "  <tbody>\n",
       "    <tr>\n",
       "      <td>count</td>\n",
       "      <td>21525.000000</td>\n",
       "      <td>19351.000000</td>\n",
       "      <td>21525.000000</td>\n",
       "      <td>21525.000000</td>\n",
       "      <td>21525.000000</td>\n",
       "      <td>21525.000000</td>\n",
       "      <td>1.935100e+04</td>\n",
       "    </tr>\n",
       "    <tr>\n",
       "      <td>mean</td>\n",
       "      <td>0.538908</td>\n",
       "      <td>63046.497661</td>\n",
       "      <td>43.293380</td>\n",
       "      <td>0.817236</td>\n",
       "      <td>0.972544</td>\n",
       "      <td>0.080883</td>\n",
       "      <td>1.674223e+05</td>\n",
       "    </tr>\n",
       "    <tr>\n",
       "      <td>std</td>\n",
       "      <td>1.381587</td>\n",
       "      <td>140827.311974</td>\n",
       "      <td>12.574584</td>\n",
       "      <td>0.548138</td>\n",
       "      <td>1.420324</td>\n",
       "      <td>0.272661</td>\n",
       "      <td>1.029716e+05</td>\n",
       "    </tr>\n",
       "    <tr>\n",
       "      <td>min</td>\n",
       "      <td>-1.000000</td>\n",
       "      <td>-18388.949901</td>\n",
       "      <td>0.000000</td>\n",
       "      <td>0.000000</td>\n",
       "      <td>0.000000</td>\n",
       "      <td>0.000000</td>\n",
       "      <td>2.066726e+04</td>\n",
       "    </tr>\n",
       "    <tr>\n",
       "      <td>25%</td>\n",
       "      <td>0.000000</td>\n",
       "      <td>-2747.423625</td>\n",
       "      <td>33.000000</td>\n",
       "      <td>1.000000</td>\n",
       "      <td>0.000000</td>\n",
       "      <td>0.000000</td>\n",
       "      <td>1.030532e+05</td>\n",
       "    </tr>\n",
       "    <tr>\n",
       "      <td>50%</td>\n",
       "      <td>0.000000</td>\n",
       "      <td>-1203.369529</td>\n",
       "      <td>42.000000</td>\n",
       "      <td>1.000000</td>\n",
       "      <td>0.000000</td>\n",
       "      <td>0.000000</td>\n",
       "      <td>1.450179e+05</td>\n",
       "    </tr>\n",
       "    <tr>\n",
       "      <td>75%</td>\n",
       "      <td>1.000000</td>\n",
       "      <td>-291.095954</td>\n",
       "      <td>53.000000</td>\n",
       "      <td>1.000000</td>\n",
       "      <td>1.000000</td>\n",
       "      <td>0.000000</td>\n",
       "      <td>2.034351e+05</td>\n",
       "    </tr>\n",
       "    <tr>\n",
       "      <td>max</td>\n",
       "      <td>20.000000</td>\n",
       "      <td>401755.400475</td>\n",
       "      <td>75.000000</td>\n",
       "      <td>4.000000</td>\n",
       "      <td>4.000000</td>\n",
       "      <td>1.000000</td>\n",
       "      <td>2.265604e+06</td>\n",
       "    </tr>\n",
       "  </tbody>\n",
       "</table>\n",
       "</div>"
      ],
      "text/plain": [
       "           children  days_employed     dob_years  education_id  \\\n",
       "count  21525.000000   19351.000000  21525.000000  21525.000000   \n",
       "mean       0.538908   63046.497661     43.293380      0.817236   \n",
       "std        1.381587  140827.311974     12.574584      0.548138   \n",
       "min       -1.000000  -18388.949901      0.000000      0.000000   \n",
       "25%        0.000000   -2747.423625     33.000000      1.000000   \n",
       "50%        0.000000   -1203.369529     42.000000      1.000000   \n",
       "75%        1.000000    -291.095954     53.000000      1.000000   \n",
       "max       20.000000  401755.400475     75.000000      4.000000   \n",
       "\n",
       "       family_status_id          debt  total_income  \n",
       "count      21525.000000  21525.000000  1.935100e+04  \n",
       "mean           0.972544      0.080883  1.674223e+05  \n",
       "std            1.420324      0.272661  1.029716e+05  \n",
       "min            0.000000      0.000000  2.066726e+04  \n",
       "25%            0.000000      0.000000  1.030532e+05  \n",
       "50%            0.000000      0.000000  1.450179e+05  \n",
       "75%            1.000000      0.000000  2.034351e+05  \n",
       "max            4.000000      1.000000  2.265604e+06  "
      ]
     },
     "metadata": {},
     "output_type": "display_data"
    }
   ],
   "source": [
    "display(debtor_data.describe())"
   ]
  },
  {
   "cell_type": "code",
   "execution_count": 4,
   "metadata": {},
   "outputs": [
    {
     "data": {
      "text/html": [
       "<div>\n",
       "<style scoped>\n",
       "    .dataframe tbody tr th:only-of-type {\n",
       "        vertical-align: middle;\n",
       "    }\n",
       "\n",
       "    .dataframe tbody tr th {\n",
       "        vertical-align: top;\n",
       "    }\n",
       "\n",
       "    .dataframe thead th {\n",
       "        text-align: right;\n",
       "    }\n",
       "</style>\n",
       "<table border=\"1\" class=\"dataframe\">\n",
       "  <thead>\n",
       "    <tr style=\"text-align: right;\">\n",
       "      <th></th>\n",
       "      <th>children</th>\n",
       "      <th>days_employed</th>\n",
       "      <th>dob_years</th>\n",
       "      <th>education</th>\n",
       "      <th>education_id</th>\n",
       "      <th>family_status</th>\n",
       "      <th>family_status_id</th>\n",
       "      <th>gender</th>\n",
       "      <th>income_type</th>\n",
       "      <th>debt</th>\n",
       "      <th>total_income</th>\n",
       "      <th>purpose</th>\n",
       "    </tr>\n",
       "  </thead>\n",
       "  <tbody>\n",
       "    <tr>\n",
       "      <td>0</td>\n",
       "      <td>1</td>\n",
       "      <td>-8437.673028</td>\n",
       "      <td>42</td>\n",
       "      <td>высшее</td>\n",
       "      <td>0</td>\n",
       "      <td>женат / замужем</td>\n",
       "      <td>0</td>\n",
       "      <td>F</td>\n",
       "      <td>сотрудник</td>\n",
       "      <td>0</td>\n",
       "      <td>253875.639453</td>\n",
       "      <td>покупка жилья</td>\n",
       "    </tr>\n",
       "    <tr>\n",
       "      <td>1</td>\n",
       "      <td>1</td>\n",
       "      <td>-4024.803754</td>\n",
       "      <td>36</td>\n",
       "      <td>среднее</td>\n",
       "      <td>1</td>\n",
       "      <td>женат / замужем</td>\n",
       "      <td>0</td>\n",
       "      <td>F</td>\n",
       "      <td>сотрудник</td>\n",
       "      <td>0</td>\n",
       "      <td>112080.014102</td>\n",
       "      <td>приобретение автомобиля</td>\n",
       "    </tr>\n",
       "    <tr>\n",
       "      <td>2</td>\n",
       "      <td>0</td>\n",
       "      <td>-5623.422610</td>\n",
       "      <td>33</td>\n",
       "      <td>Среднее</td>\n",
       "      <td>1</td>\n",
       "      <td>женат / замужем</td>\n",
       "      <td>0</td>\n",
       "      <td>M</td>\n",
       "      <td>сотрудник</td>\n",
       "      <td>0</td>\n",
       "      <td>145885.952297</td>\n",
       "      <td>покупка жилья</td>\n",
       "    </tr>\n",
       "    <tr>\n",
       "      <td>3</td>\n",
       "      <td>3</td>\n",
       "      <td>-4124.747207</td>\n",
       "      <td>32</td>\n",
       "      <td>среднее</td>\n",
       "      <td>1</td>\n",
       "      <td>женат / замужем</td>\n",
       "      <td>0</td>\n",
       "      <td>M</td>\n",
       "      <td>сотрудник</td>\n",
       "      <td>0</td>\n",
       "      <td>267628.550329</td>\n",
       "      <td>дополнительное образование</td>\n",
       "    </tr>\n",
       "    <tr>\n",
       "      <td>4</td>\n",
       "      <td>0</td>\n",
       "      <td>340266.072047</td>\n",
       "      <td>53</td>\n",
       "      <td>среднее</td>\n",
       "      <td>1</td>\n",
       "      <td>гражданский брак</td>\n",
       "      <td>1</td>\n",
       "      <td>F</td>\n",
       "      <td>пенсионер</td>\n",
       "      <td>0</td>\n",
       "      <td>158616.077870</td>\n",
       "      <td>сыграть свадьбу</td>\n",
       "    </tr>\n",
       "    <tr>\n",
       "      <td>5</td>\n",
       "      <td>0</td>\n",
       "      <td>-926.185831</td>\n",
       "      <td>27</td>\n",
       "      <td>высшее</td>\n",
       "      <td>0</td>\n",
       "      <td>гражданский брак</td>\n",
       "      <td>1</td>\n",
       "      <td>M</td>\n",
       "      <td>компаньон</td>\n",
       "      <td>0</td>\n",
       "      <td>255763.565419</td>\n",
       "      <td>покупка жилья</td>\n",
       "    </tr>\n",
       "    <tr>\n",
       "      <td>6</td>\n",
       "      <td>0</td>\n",
       "      <td>-2879.202052</td>\n",
       "      <td>43</td>\n",
       "      <td>высшее</td>\n",
       "      <td>0</td>\n",
       "      <td>женат / замужем</td>\n",
       "      <td>0</td>\n",
       "      <td>F</td>\n",
       "      <td>компаньон</td>\n",
       "      <td>0</td>\n",
       "      <td>240525.971920</td>\n",
       "      <td>операции с жильем</td>\n",
       "    </tr>\n",
       "    <tr>\n",
       "      <td>7</td>\n",
       "      <td>0</td>\n",
       "      <td>-152.779569</td>\n",
       "      <td>50</td>\n",
       "      <td>СРЕДНЕЕ</td>\n",
       "      <td>1</td>\n",
       "      <td>женат / замужем</td>\n",
       "      <td>0</td>\n",
       "      <td>M</td>\n",
       "      <td>сотрудник</td>\n",
       "      <td>0</td>\n",
       "      <td>135823.934197</td>\n",
       "      <td>образование</td>\n",
       "    </tr>\n",
       "    <tr>\n",
       "      <td>8</td>\n",
       "      <td>2</td>\n",
       "      <td>-6929.865299</td>\n",
       "      <td>35</td>\n",
       "      <td>ВЫСШЕЕ</td>\n",
       "      <td>0</td>\n",
       "      <td>гражданский брак</td>\n",
       "      <td>1</td>\n",
       "      <td>F</td>\n",
       "      <td>сотрудник</td>\n",
       "      <td>0</td>\n",
       "      <td>95856.832424</td>\n",
       "      <td>на проведение свадьбы</td>\n",
       "    </tr>\n",
       "    <tr>\n",
       "      <td>9</td>\n",
       "      <td>0</td>\n",
       "      <td>-2188.756445</td>\n",
       "      <td>41</td>\n",
       "      <td>среднее</td>\n",
       "      <td>1</td>\n",
       "      <td>женат / замужем</td>\n",
       "      <td>0</td>\n",
       "      <td>M</td>\n",
       "      <td>сотрудник</td>\n",
       "      <td>0</td>\n",
       "      <td>144425.938277</td>\n",
       "      <td>покупка жилья для семьи</td>\n",
       "    </tr>\n",
       "  </tbody>\n",
       "</table>\n",
       "</div>"
      ],
      "text/plain": [
       "   children  days_employed  dob_years education  education_id  \\\n",
       "0         1   -8437.673028         42    высшее             0   \n",
       "1         1   -4024.803754         36   среднее             1   \n",
       "2         0   -5623.422610         33   Среднее             1   \n",
       "3         3   -4124.747207         32   среднее             1   \n",
       "4         0  340266.072047         53   среднее             1   \n",
       "5         0    -926.185831         27    высшее             0   \n",
       "6         0   -2879.202052         43    высшее             0   \n",
       "7         0    -152.779569         50   СРЕДНЕЕ             1   \n",
       "8         2   -6929.865299         35    ВЫСШЕЕ             0   \n",
       "9         0   -2188.756445         41   среднее             1   \n",
       "\n",
       "      family_status  family_status_id gender income_type  debt   total_income  \\\n",
       "0   женат / замужем                 0      F   сотрудник     0  253875.639453   \n",
       "1   женат / замужем                 0      F   сотрудник     0  112080.014102   \n",
       "2   женат / замужем                 0      M   сотрудник     0  145885.952297   \n",
       "3   женат / замужем                 0      M   сотрудник     0  267628.550329   \n",
       "4  гражданский брак                 1      F   пенсионер     0  158616.077870   \n",
       "5  гражданский брак                 1      M   компаньон     0  255763.565419   \n",
       "6   женат / замужем                 0      F   компаньон     0  240525.971920   \n",
       "7   женат / замужем                 0      M   сотрудник     0  135823.934197   \n",
       "8  гражданский брак                 1      F   сотрудник     0   95856.832424   \n",
       "9   женат / замужем                 0      M   сотрудник     0  144425.938277   \n",
       "\n",
       "                      purpose  \n",
       "0               покупка жилья  \n",
       "1     приобретение автомобиля  \n",
       "2               покупка жилья  \n",
       "3  дополнительное образование  \n",
       "4             сыграть свадьбу  \n",
       "5               покупка жилья  \n",
       "6           операции с жильем  \n",
       "7                 образование  \n",
       "8       на проведение свадьбы  \n",
       "9     покупка жилья для семьи  "
      ]
     },
     "metadata": {},
     "output_type": "display_data"
    }
   ],
   "source": [
    "display(debtor_data.head(10))"
   ]
  },
  {
   "cell_type": "code",
   "execution_count": 5,
   "metadata": {},
   "outputs": [],
   "source": [
    "#for element in debtor_data:\n",
    " #   display (debtor_data[element].value_counts())"
   ]
  },
  {
   "cell_type": "markdown",
   "metadata": {},
   "source": [
    "### Вывод"
   ]
  },
  {
   "cell_type": "markdown",
   "metadata": {},
   "source": [
    "в столбцах days_employed и total_income есть нулевые значения.\n",
    " - Отрицательные значения в столбцах children и days_employed,чего не может быть.\n",
    " - В некоторых столбцах отсутствие данных обозначено через 0 или XNA, используются прописные буквы. \n",
    " - Пропуски могут быть как случайными, так и нет. В столбце days_employed пропуски могут быть связаны с отсутствием данных от заемщика. \n",
    " - В столбце total_income хранятся важные для банка данные, которые заемщики обычно подтверждают, поэтому отсутствие данных может быть связано со сбоями или ошибками.\n",
    " - В столбце education много дубликатов.\n"
   ]
  },
  {
   "cell_type": "markdown",
   "metadata": {},
   "source": [
    "<a id='the_destination_1'></a> "
   ]
  },
  {
   "cell_type": "markdown",
   "metadata": {},
   "source": [
    "## Предобработка данных"
   ]
  },
  {
   "cell_type": "markdown",
   "metadata": {},
   "source": [
    "#### Обработка пропусков"
   ]
  },
  {
   "cell_type": "code",
   "execution_count": 6,
   "metadata": {},
   "outputs": [
    {
     "name": "stdout",
     "output_type": "stream",
     "text": [
      "2174\n",
      "2174\n"
     ]
    }
   ],
   "source": [
    "print(debtor_data['days_employed'].isnull().sum())\n",
    "print(debtor_data['total_income'].isnull().sum())"
   ]
  },
  {
   "cell_type": "markdown",
   "metadata": {},
   "source": [
    "Нулевые значения есть в столбце days_employed, но данные значения не будут использованы при анализе данных, поэтому изменять их не будем\n",
    "Нулевые значения в total_income заменим медианным значением"
   ]
  },
  {
   "cell_type": "code",
   "execution_count": 7,
   "metadata": {},
   "outputs": [
    {
     "name": "stdout",
     "output_type": "stream",
     "text": [
      "['сотрудник' 'пенсионер' 'компаньон' 'госслужащий' 'безработный'\n",
      " 'предприниматель' 'студент' 'в декрете']\n"
     ]
    }
   ],
   "source": [
    "#выведем уникальные значения занятости\n",
    "inc_type_unique = debtor_data['income_type'].unique()\n",
    "print(inc_type_unique)"
   ]
  },
  {
   "cell_type": "code",
   "execution_count": 8,
   "metadata": {},
   "outputs": [
    {
     "data": {
      "text/html": [
       "<div>\n",
       "<style scoped>\n",
       "    .dataframe tbody tr th:only-of-type {\n",
       "        vertical-align: middle;\n",
       "    }\n",
       "\n",
       "    .dataframe tbody tr th {\n",
       "        vertical-align: top;\n",
       "    }\n",
       "\n",
       "    .dataframe thead th {\n",
       "        text-align: right;\n",
       "    }\n",
       "</style>\n",
       "<table border=\"1\" class=\"dataframe\">\n",
       "  <thead>\n",
       "    <tr style=\"text-align: right;\">\n",
       "      <th></th>\n",
       "      <th>children</th>\n",
       "      <th>days_employed</th>\n",
       "      <th>dob_years</th>\n",
       "      <th>education</th>\n",
       "      <th>education_id</th>\n",
       "      <th>family_status</th>\n",
       "      <th>family_status_id</th>\n",
       "      <th>gender</th>\n",
       "      <th>income_type</th>\n",
       "      <th>debt</th>\n",
       "      <th>total_income</th>\n",
       "      <th>purpose</th>\n",
       "    </tr>\n",
       "  </thead>\n",
       "  <tbody>\n",
       "    <tr>\n",
       "      <td>3133</td>\n",
       "      <td>1</td>\n",
       "      <td>337524.466835</td>\n",
       "      <td>31</td>\n",
       "      <td>среднее</td>\n",
       "      <td>1</td>\n",
       "      <td>женат / замужем</td>\n",
       "      <td>0</td>\n",
       "      <td>M</td>\n",
       "      <td>безработный</td>\n",
       "      <td>1</td>\n",
       "      <td>59956.991984</td>\n",
       "      <td>покупка жилья для сдачи</td>\n",
       "    </tr>\n",
       "    <tr>\n",
       "      <td>14798</td>\n",
       "      <td>0</td>\n",
       "      <td>395302.838654</td>\n",
       "      <td>45</td>\n",
       "      <td>Высшее</td>\n",
       "      <td>0</td>\n",
       "      <td>гражданский брак</td>\n",
       "      <td>1</td>\n",
       "      <td>F</td>\n",
       "      <td>безработный</td>\n",
       "      <td>0</td>\n",
       "      <td>202722.511368</td>\n",
       "      <td>ремонт жилью</td>\n",
       "    </tr>\n",
       "  </tbody>\n",
       "</table>\n",
       "</div>"
      ],
      "text/plain": [
       "       children  days_employed  dob_years education  education_id  \\\n",
       "3133          1  337524.466835         31   среднее             1   \n",
       "14798         0  395302.838654         45    Высшее             0   \n",
       "\n",
       "          family_status  family_status_id gender  income_type  debt  \\\n",
       "3133    женат / замужем                 0      M  безработный     1   \n",
       "14798  гражданский брак                 1      F  безработный     0   \n",
       "\n",
       "        total_income                  purpose  \n",
       "3133    59956.991984  покупка жилья для сдачи  \n",
       "14798  202722.511368             ремонт жилью  "
      ]
     },
     "metadata": {},
     "output_type": "display_data"
    }
   ],
   "source": [
    "display(debtor_data[debtor_data['income_type'] == 'безработный'])"
   ]
  },
  {
   "cell_type": "code",
   "execution_count": 9,
   "metadata": {},
   "outputs": [
    {
     "name": "stdout",
     "output_type": "stream",
     "text": [
      "income_type\n",
      "безработный        131339.751676\n",
      "в декрете           53829.130729\n",
      "госслужащий        150447.935283\n",
      "компаньон          172357.950966\n",
      "пенсионер          118514.486412\n",
      "предприниматель    499163.144947\n",
      "сотрудник          142594.396847\n",
      "студент             98201.625314\n",
      "Name: total_income, dtype: float64\n"
     ]
    }
   ],
   "source": [
    "#найдем медианные значения в каждой группе занятости\n",
    "inc_type_grouped_median = debtor_data.groupby('income_type')['total_income'].median()\n",
    "print(inc_type_grouped_median)"
   ]
  },
  {
   "cell_type": "code",
   "execution_count": 10,
   "metadata": {},
   "outputs": [
    {
     "name": "stdout",
     "output_type": "stream",
     "text": [
      "0\n"
     ]
    }
   ],
   "source": [
    "#заполним пустые значения в каждой группе занятости\n",
    "for inc_type in inc_type_unique:\n",
    "    inc_mean = inc_type_grouped_median.loc[inc_type]\n",
    "    debtor_data.loc[debtor_data['income_type'] == inc_type, 'total_income'] = debtor_data.loc[debtor_data['income_type'] == inc_type, 'total_income'].fillna(inc_mean)\n",
    "print(debtor_data['total_income'].isnull().sum())"
   ]
  },
  {
   "cell_type": "markdown",
   "metadata": {},
   "source": [
    "### Вывод"
   ]
  },
  {
   "cell_type": "markdown",
   "metadata": {},
   "source": [
    "Заменили в столбце total_income нулевые значения на медианные для каждой группы занятости. Проверили, что в данном столбце нулевых значений не осталось. Нулевые значения могут быть потому, что данные были не предоставлены или не подтверждены документами.\n",
    "Нулевые значения в days_employed могут быть также связаны с непредоставлением данных (проверили, что у 'безработный' есть данные в'days_employed').\n",
    "Пропуски также могут появляться в результате сбоев при выгрузке данных."
   ]
  },
  {
   "cell_type": "markdown",
   "metadata": {},
   "source": [
    "#### Замена типа данных"
   ]
  },
  {
   "cell_type": "code",
   "execution_count": 11,
   "metadata": {},
   "outputs": [],
   "source": [
    "#чтобы заменить тип данных на int заменили пропущенные значению на 0. Считаю это не критичным, тк этот столбец \n",
    "#не планирую использовать в расчетах\n",
    "debtor_data['days_employed'] = debtor_data['days_employed'].fillna(0)\n",
    "debtor_data['days_employed'] = debtor_data['days_employed'].astype('int')"
   ]
  },
  {
   "cell_type": "code",
   "execution_count": 12,
   "metadata": {},
   "outputs": [],
   "source": [
    "debtor_data['total_income'] = debtor_data['total_income'].astype('int')"
   ]
  },
  {
   "cell_type": "code",
   "execution_count": 13,
   "metadata": {},
   "outputs": [
    {
     "name": "stdout",
     "output_type": "stream",
     "text": [
      "<class 'pandas.core.frame.DataFrame'>\n",
      "RangeIndex: 21525 entries, 0 to 21524\n",
      "Data columns (total 12 columns):\n",
      "children            21525 non-null int64\n",
      "days_employed       21525 non-null int64\n",
      "dob_years           21525 non-null int64\n",
      "education           21525 non-null object\n",
      "education_id        21525 non-null int64\n",
      "family_status       21525 non-null object\n",
      "family_status_id    21525 non-null int64\n",
      "gender              21525 non-null object\n",
      "income_type         21525 non-null object\n",
      "debt                21525 non-null int64\n",
      "total_income        21525 non-null int64\n",
      "purpose             21525 non-null object\n",
      "dtypes: int64(7), object(5)\n",
      "memory usage: 2.0+ MB\n",
      "None\n"
     ]
    }
   ],
   "source": [
    "print(debtor_data.info())"
   ]
  },
  {
   "cell_type": "markdown",
   "metadata": {},
   "source": [
    "###### Вывод"
   ]
  },
  {
   "cell_type": "markdown",
   "metadata": {},
   "source": [
    "Заминили вещественный тип данных на целочисленный в столбце days_employed, предварительно заменив пропущенные значения нулями.\n",
    "Также заменили вещественный тип на целочисленный в столбце total_income."
   ]
  },
  {
   "cell_type": "markdown",
   "metadata": {},
   "source": [
    "\n",
    "#### Обработка дубликатов"
   ]
  },
  {
   "cell_type": "code",
   "execution_count": 14,
   "metadata": {},
   "outputs": [
    {
     "name": "stdout",
     "output_type": "stream",
     "text": [
      "среднее                15233\n",
      "высшее                  5260\n",
      "неоконченное высшее      744\n",
      "начальное                282\n",
      "ученая степень             6\n",
      "Name: education, dtype: int64\n"
     ]
    }
   ],
   "source": [
    "#приведем все записи в столбце 'education' в нижний регистр\n",
    "debtor_data['education'] = debtor_data['education'].str.lower()\n",
    "print(debtor_data['education'].value_counts())"
   ]
  },
  {
   "cell_type": "code",
   "execution_count": 15,
   "metadata": {},
   "outputs": [
    {
     "name": "stdout",
     "output_type": "stream",
     "text": [
      "71\n",
      "0\n"
     ]
    }
   ],
   "source": [
    "#проверим данные на наличие дублей, удалим их и сделаем повторную проверку на дубли\n",
    "print(debtor_data.duplicated().sum())\n",
    "debtor_data_clean = debtor_data.drop_duplicates().reset_index(drop=True)\n",
    "print(debtor_data_clean.duplicated().sum())"
   ]
  },
  {
   "cell_type": "code",
   "execution_count": 16,
   "metadata": {},
   "outputs": [
    {
     "name": "stdout",
     "output_type": "stream",
     "text": [
      "<class 'pandas.core.frame.DataFrame'>\n",
      "RangeIndex: 21454 entries, 0 to 21453\n",
      "Data columns (total 12 columns):\n",
      "children            21454 non-null int64\n",
      "days_employed       21454 non-null int64\n",
      "dob_years           21454 non-null int64\n",
      "education           21454 non-null object\n",
      "education_id        21454 non-null int64\n",
      "family_status       21454 non-null object\n",
      "family_status_id    21454 non-null int64\n",
      "gender              21454 non-null object\n",
      "income_type         21454 non-null object\n",
      "debt                21454 non-null int64\n",
      "total_income        21454 non-null int64\n",
      "purpose             21454 non-null object\n",
      "dtypes: int64(7), object(5)\n",
      "memory usage: 2.0+ MB\n",
      "None\n"
     ]
    }
   ],
   "source": [
    "print(debtor_data_clean.info())"
   ]
  },
  {
   "cell_type": "markdown",
   "metadata": {},
   "source": [
    "###### Вывод"
   ]
  },
  {
   "cell_type": "markdown",
   "metadata": {},
   "source": [
    "Методом drop_duplicates удалили полные дубликаты из таблицы. Такие дубликаты могли появиться при копировании данных или в результате ошибки при их добавлении в таблицу. \n",
    "Часть дубликатов появилась из-за по-разному заполненных значений в столбце 'education', но имеющих одинаковый смысл. Такие дубликаты были обработаны приведением всех записей к написанию без заглавных букв. "
   ]
  },
  {
   "cell_type": "markdown",
   "metadata": {},
   "source": [
    "<a id='the_destination_6'></a> "
   ]
  },
  {
   "cell_type": "markdown",
   "metadata": {},
   "source": [
    "## Лемматизация"
   ]
  },
  {
   "cell_type": "code",
   "execution_count": 17,
   "metadata": {},
   "outputs": [
    {
     "name": "stdout",
     "output_type": "stream",
     "text": [
      "[автомобиль, \\n]                                          972\n",
      "[свадьба, \\n]                                             791\n",
      "[на,  , проведение,  , свадьба, \\n]                       768\n",
      "[сыграть,  , свадьба, \\n]                                 765\n",
      "[операция,  , с,  , недвижимость, \\n]                     675\n",
      "[покупка,  , коммерческий,  , недвижимость, \\n]           661\n",
      "[операция,  , с,  , жилье, \\n]                            652\n",
      "[покупка,  , жилье,  , для,  , сдача, \\n]                 651\n",
      "[операция,  , с,  , коммерческий,  , недвижимость, \\n]    650\n",
      "[покупка,  , жилье, \\n]                                   646\n",
      "[жилье, \\n]                                               646\n",
      "[покупка,  , жилье,  , для,  , семья, \\n]                 638\n",
      "[строительство,  , собственный,  , недвижимость, \\n]      635\n",
      "[недвижимость, \\n]                                        633\n",
      "[операция,  , со,  , свой,  , недвижимость, \\n]           627\n",
      "[строительство,  , жилой,  , недвижимость, \\n]            624\n",
      "[покупка,  , недвижимость, \\n]                            621\n",
      "[покупка,  , свой,  , жилье, \\n]                          620\n",
      "[строительство,  , недвижимость, \\n]                      619\n",
      "[ремонт,  , жилье, \\n]                                    607\n",
      "[покупка,  , жилой,  , недвижимость, \\n]                  606\n",
      "[на,  , покупка,  , свой,  , автомобиль, \\n]              505\n",
      "[заниматься,  , высокий,  , образование, \\n]              496\n",
      "[сделка,  , с,  , подержанный,  , автомобиль, \\n]         486\n",
      "[свой,  , автомобиль, \\n]                                 478\n",
      "[на,  , покупка,  , подержать,  , автомобиль, \\n]         478\n",
      "[на,  , покупка,  , автомобиль, \\n]                       471\n",
      "[приобретение,  , автомобиль, \\n]                         461\n",
      "[дополнительный,  , образование, \\n]                      460\n",
      "[сделка,  , с,  , автомобиль, \\n]                         455\n",
      "[высокий,  , образование, \\n]                             452\n",
      "[образование, \\n]                                         447\n",
      "[получение,  , дополнительный,  , образование, \\n]        446\n",
      "[получение,  , образование, \\n]                           442\n",
      "[профильный,  , образование, \\n]                          436\n",
      "[получение,  , высокий,  , образование, \\n]               426\n",
      "[заниматься,  , образование, \\n]                          408\n",
      "Name: purpose_lemm, dtype: int64\n"
     ]
    }
   ],
   "source": [
    "from pymystem3 import Mystem\n",
    "m = Mystem()\n",
    "def lemmas_list(row):\n",
    "    purpose_list = row['purpose']\n",
    "    lemmas = m.lemmatize(purpose_list)\n",
    "    return lemmas\n",
    "\n",
    "debtor_data_clean['purpose_lemm']=debtor_data_clean.apply(lemmas_list, axis=1)\n",
    "print(debtor_data_clean['purpose_lemm'].value_counts())"
   ]
  },
  {
   "cell_type": "markdown",
   "metadata": {},
   "source": [
    "###### Вывод"
   ]
  },
  {
   "cell_type": "markdown",
   "metadata": {},
   "source": [
    "Цели у заемщиков сформулированы по разному. Для дальнейшей категоризации разбили столбец целей на леммы. "
   ]
  },
  {
   "cell_type": "markdown",
   "metadata": {},
   "source": [
    "<a id='the_destination_4'></a> "
   ]
  },
  {
   "cell_type": "markdown",
   "metadata": {},
   "source": [
    "## Категоризация данных"
   ]
  },
  {
   "cell_type": "code",
   "execution_count": 18,
   "metadata": {},
   "outputs": [
    {
     "name": "stdout",
     "output_type": "stream",
     "text": [
      "Покупка жилья         10811\n",
      "Покупка aвтомобиля     4306\n",
      "Образование            4013\n",
      "Свадьба                2324\n",
      "Name: purpose_words, dtype: int64\n"
     ]
    }
   ],
   "source": [
    "def purpose_type(row):\n",
    "    purpose_type_word = row['purpose_lemm'] \n",
    "    if 'автомобиль' in purpose_type_word:\n",
    "        return 'Покупка aвтомобиля'\n",
    "    if 'образование' in purpose_type_word:\n",
    "        return 'Образование'\n",
    "    if 'свадьба' in purpose_type_word:\n",
    "        return 'Свадьба'\n",
    "    \n",
    "    return 'Покупка жилья'\n",
    "\n",
    "debtor_data_clean['purpose_words'] = debtor_data_clean.apply(purpose_type, axis=1)\n",
    "print(debtor_data_clean['purpose_words'].value_counts())"
   ]
  },
  {
   "cell_type": "markdown",
   "metadata": {},
   "source": [
    "###### Вывод"
   ]
  },
  {
   "cell_type": "markdown",
   "metadata": {},
   "source": [
    "Выделили 4 цели заема средств: покупка жилья, покупка автомобиля, образование, свадьба. Наибольшее число заемов на покупку жилья. Кредит на покупку автомобиля и образование берут почти в 2,5 раза реже, а на организацию свадьбы в 4,7 раз реже."
   ]
  },
  {
   "cell_type": "code",
   "execution_count": 19,
   "metadata": {},
   "outputs": [
    {
     "name": "stdout",
     "output_type": "stream",
     "text": [
      "Квантиль 0.25: 107623.0\n",
      "Квантиль 0.50: 142594.0\n",
      "Квантиль 0.75: 195820.25\n"
     ]
    }
   ],
   "source": [
    "# определим величину квантилей 0.5, 0.25 и 0.75\n",
    "quantile025 = debtor_data_clean['total_income'].quantile(0.25)\n",
    "quantile05 = debtor_data_clean['total_income'].quantile(0.5)\n",
    "quantile075 = debtor_data_clean['total_income'].quantile(0.75)\n",
    "print('Квантиль 0.25:', quantile025)\n",
    "print('Квантиль 0.50:', quantile05)\n",
    "print('Квантиль 0.75:', quantile075)\n"
   ]
  },
  {
   "cell_type": "code",
   "execution_count": 20,
   "metadata": {},
   "outputs": [
    {
     "name": "stdout",
     "output_type": "stream",
     "text": [
      "more75    6434\n",
      "low25     5364\n",
      "low75     5247\n",
      "low50     4409\n",
      "Name: income_category, dtype: int64\n"
     ]
    }
   ],
   "source": [
    "#напишем функцию для введения категорий по уровню дохода\n",
    "def income_category(income):\n",
    "    if income < quantile025:\n",
    "        return 'low25'\n",
    "    if income < quantile05 and income > quantile025:\n",
    "        return 'low50'\n",
    "    if income < quantile075 and income > quantile05:\n",
    "        return 'low75'\n",
    "    return 'more75'\n",
    "\n",
    "debtor_data_clean['income_category'] = debtor_data_clean['total_income'].apply(income_category)\n",
    "print(debtor_data_clean['income_category'].value_counts())"
   ]
  },
  {
   "cell_type": "markdown",
   "metadata": {},
   "source": [
    "###### Вывод\n",
    "\n",
    "Определили квантили 0.25, 0.5 и 0.75 по значениям столбца total_income. Опираясь на эти значения разбили доход на 4 группы. Проверили методом value_counts(), что размер групп однороден и репрезентативен."
   ]
  },
  {
   "cell_type": "code",
   "execution_count": null,
   "metadata": {},
   "outputs": [],
   "source": []
  },
  {
   "cell_type": "markdown",
   "metadata": {},
   "source": [
    "Исправление неверных данных\n",
    "----\n",
    "в данном разделе исправим неправильные значения в столбце children: \n",
    "  - в строке с количеством детей  \"-1\" исправим на 1\n",
    "  - строки с количеством детей \"20\" изменим на 2, таких значений всего 76 и  такая замена не окажет серьезного влияния на результаты анализа "
   ]
  },
  {
   "cell_type": "code",
   "execution_count": 21,
   "metadata": {},
   "outputs": [
    {
     "name": "stdout",
     "output_type": "stream",
     "text": [
      "0    14091\n",
      "1     4855\n",
      "2     2128\n",
      "3      330\n",
      "4       41\n",
      "5        9\n",
      "Name: children, dtype: int64\n"
     ]
    }
   ],
   "source": [
    "debtor_data_clean['children'].replace(-1, 1, inplace=True)\n",
    "debtor_data_clean['children'].replace(20, 2, inplace=True)\n",
    "print(debtor_data_clean['children'].value_counts())"
   ]
  },
  {
   "cell_type": "markdown",
   "metadata": {},
   "source": [
    "### Шаг 3. Ответьте на вопросы"
   ]
  },
  {
   "cell_type": "markdown",
   "metadata": {},
   "source": [
    "- Есть ли зависимость между наличием детей и возвратом кредита в срок?"
   ]
  },
  {
   "cell_type": "code",
   "execution_count": 22,
   "metadata": {},
   "outputs": [
    {
     "name": "stdout",
     "output_type": "stream",
     "text": [
      "children\n",
      "0    7.543822\n",
      "1    9.165808\n",
      "2    9.492481\n",
      "3    8.181818\n",
      "4    9.756098\n",
      "5    0.000000\n",
      "Name: debt, dtype: float64\n"
     ]
    }
   ],
   "source": [
    "debt_quant_children = debtor_data_clean.groupby('children')['debt'].mean()*100\n",
    "print(debt_quant_children)"
   ]
  },
  {
   "cell_type": "code",
   "execution_count": 23,
   "metadata": {},
   "outputs": [
    {
     "data": {
      "text/html": [
       "<style  type=\"text/css\" >\n",
       "</style><table id=\"T_7bb7dcd6_091e_11eb_9cef_02420a3952aa\" ><thead>    <tr>        <th class=\"blank level0\" ></th>        <th class=\"col_heading level0 col0\" >debt</th>    </tr>    <tr>        <th class=\"index_name level0\" >children</th>        <th class=\"blank\" ></th>    </tr></thead><tbody>\n",
       "                <tr>\n",
       "                        <th id=\"T_7bb7dcd6_091e_11eb_9cef_02420a3952aalevel0_row0\" class=\"row_heading level0 row0\" >0</th>\n",
       "                        <td id=\"T_7bb7dcd6_091e_11eb_9cef_02420a3952aarow0_col0\" class=\"data row0 col0\" >7.54%</td>\n",
       "            </tr>\n",
       "            <tr>\n",
       "                        <th id=\"T_7bb7dcd6_091e_11eb_9cef_02420a3952aalevel0_row1\" class=\"row_heading level0 row1\" >1</th>\n",
       "                        <td id=\"T_7bb7dcd6_091e_11eb_9cef_02420a3952aarow1_col0\" class=\"data row1 col0\" >9.17%</td>\n",
       "            </tr>\n",
       "            <tr>\n",
       "                        <th id=\"T_7bb7dcd6_091e_11eb_9cef_02420a3952aalevel0_row2\" class=\"row_heading level0 row2\" >2</th>\n",
       "                        <td id=\"T_7bb7dcd6_091e_11eb_9cef_02420a3952aarow2_col0\" class=\"data row2 col0\" >9.49%</td>\n",
       "            </tr>\n",
       "            <tr>\n",
       "                        <th id=\"T_7bb7dcd6_091e_11eb_9cef_02420a3952aalevel0_row3\" class=\"row_heading level0 row3\" >3</th>\n",
       "                        <td id=\"T_7bb7dcd6_091e_11eb_9cef_02420a3952aarow3_col0\" class=\"data row3 col0\" >8.18%</td>\n",
       "            </tr>\n",
       "            <tr>\n",
       "                        <th id=\"T_7bb7dcd6_091e_11eb_9cef_02420a3952aalevel0_row4\" class=\"row_heading level0 row4\" >4</th>\n",
       "                        <td id=\"T_7bb7dcd6_091e_11eb_9cef_02420a3952aarow4_col0\" class=\"data row4 col0\" >9.76%</td>\n",
       "            </tr>\n",
       "            <tr>\n",
       "                        <th id=\"T_7bb7dcd6_091e_11eb_9cef_02420a3952aalevel0_row5\" class=\"row_heading level0 row5\" >5</th>\n",
       "                        <td id=\"T_7bb7dcd6_091e_11eb_9cef_02420a3952aarow5_col0\" class=\"data row5 col0\" >0.00%</td>\n",
       "            </tr>\n",
       "    </tbody></table>"
      ],
      "text/plain": [
       "<pandas.io.formats.style.Styler at 0x7f1e5182dc10>"
      ]
     },
     "execution_count": 23,
     "metadata": {},
     "output_type": "execute_result"
    }
   ],
   "source": [
    "table1 = pd.pivot_table(debtor_data_clean, index=['children'], values = 'debt',  aggfunc='mean')\n",
    "format_dict = { 'debt': '{:.2%}'}\n",
    "table1.style.format(format_dict)"
   ]
  },
  {
   "cell_type": "markdown",
   "metadata": {},
   "source": [
    "<a id='the_destination_5'></a> "
   ]
  },
  {
   "cell_type": "markdown",
   "metadata": {},
   "source": [
    "## Промежуточные выводы"
   ]
  },
  {
   "cell_type": "markdown",
   "metadata": {},
   "source": [
    "Зависимость между наличием детей и возвратом кредита в срок есть.\n",
    " \n",
    "- Процент Заемщиков без детей, возвращающих кредит не в срок составляет 7.5%. \n",
    "  Всех заемщиков с детьми объеденим в одну группу и расчитаем средний процент заемщиков, задерживающих выплаты по кредитам - 9.1%. Заемщиков с 5 детьми не учитывали, так как выборка таких клиентов не репрезентативная.\n",
    "  Таким образом, наличие детей приводит к увеличению процента заемщиков, задерживающих выплаты на 1.6%"
   ]
  },
  {
   "cell_type": "markdown",
   "metadata": {},
   "source": [
    "- Есть ли зависимость между семейным положением и возвратом кредита в срок?"
   ]
  },
  {
   "cell_type": "code",
   "execution_count": 24,
   "metadata": {},
   "outputs": [
    {
     "name": "stdout",
     "output_type": "stream",
     "text": [
      "family_status\n",
      "Не женат / не замужем    9.750890\n",
      "в разводе                7.112971\n",
      "вдовец / вдова           6.569343\n",
      "гражданский брак         9.347145\n",
      "женат / замужем          7.545182\n",
      "Name: debt, dtype: float64\n"
     ]
    }
   ],
   "source": [
    "debt_quantity_family = debtor_data_clean.groupby('family_status')['debt'].mean()*100\n",
    "print(debt_quantity_family)"
   ]
  },
  {
   "cell_type": "code",
   "execution_count": 25,
   "metadata": {},
   "outputs": [
    {
     "name": "stdout",
     "output_type": "stream",
     "text": [
      "family_status\n",
      "Не женат / не замужем    11.678832\n",
      "в разводе                 7.299270\n",
      "вдовец / вдова            8.928571\n",
      "гражданский брак         11.189303\n",
      "женат / замужем           8.519811\n",
      "Name: debt, dtype: float64\n"
     ]
    }
   ],
   "source": [
    "#проверим как изменятся показатели в группах семейного положения в случае наличия детей\n",
    "debt_quantity_family_children = debtor_data_clean[debtor_data_clean['children'] != 0].groupby('family_status')['debt'].mean()*100\n",
    "print(debt_quantity_family_children)"
   ]
  },
  {
   "cell_type": "markdown",
   "metadata": {},
   "source": [
    "###### Вывод"
   ]
  },
  {
   "cell_type": "markdown",
   "metadata": {},
   "source": [
    "Заемщики с семейным положением \"женат / замужем\" или ранее бывавшие в оформленных отношениях (\"вдовец / вдова\", \"в разводе\") в среднем возвращают кредит в срок на 2,5% чаще, чем заемщики, не состоящие в официальных отношения (\"Не женат / не замужем\", \"гражданский брак\"). \n",
    "Средние проценты существования задолжности у заемщиков находящихся, или бывших в официальных отношениях и у заемщиков без официально оформленных отношений составляют 6.9% и 9.5%, соответственно. \n",
    "В случае наличия у заемщиков с семейным положением \"Не женат / не замужем\" и \"гражданский брак\" детей, задержки по кредитам в группе увеличиваются в среднем с 9,5% до 11,4%. \n",
    "Наличие детей приводит к увеличению доли задержек по выплатам кредита минимум на 1% во всех группах, кроме \"в разводе\"."
   ]
  },
  {
   "cell_type": "code",
   "execution_count": 26,
   "metadata": {},
   "outputs": [
    {
     "name": "stdout",
     "output_type": "stream",
     "text": [
      "income_category\n",
      "low25     7.960477\n",
      "low50     8.732139\n",
      "low75     8.538212\n",
      "more75    7.475909\n",
      "Name: debt, dtype: float64\n"
     ]
    }
   ],
   "source": [
    "debt_quantity_income = debtor_data_clean.groupby('income_category')['debt'].mean()*100\n",
    "print(debt_quantity_income)"
   ]
  },
  {
   "cell_type": "code",
   "execution_count": 27,
   "metadata": {},
   "outputs": [
    {
     "data": {
      "text/html": [
       "<style  type=\"text/css\" >\n",
       "</style><table id=\"T_7bc486e8_091e_11eb_9cef_02420a3952aa\" ><thead>    <tr>        <th class=\"blank level0\" ></th>        <th class=\"col_heading level0 col0\" >debt</th>    </tr>    <tr>        <th class=\"index_name level0\" >income_category</th>        <th class=\"blank\" ></th>    </tr></thead><tbody>\n",
       "                <tr>\n",
       "                        <th id=\"T_7bc486e8_091e_11eb_9cef_02420a3952aalevel0_row0\" class=\"row_heading level0 row0\" >low25</th>\n",
       "                        <td id=\"T_7bc486e8_091e_11eb_9cef_02420a3952aarow0_col0\" class=\"data row0 col0\" >7.96%</td>\n",
       "            </tr>\n",
       "            <tr>\n",
       "                        <th id=\"T_7bc486e8_091e_11eb_9cef_02420a3952aalevel0_row1\" class=\"row_heading level0 row1\" >low50</th>\n",
       "                        <td id=\"T_7bc486e8_091e_11eb_9cef_02420a3952aarow1_col0\" class=\"data row1 col0\" >8.73%</td>\n",
       "            </tr>\n",
       "            <tr>\n",
       "                        <th id=\"T_7bc486e8_091e_11eb_9cef_02420a3952aalevel0_row2\" class=\"row_heading level0 row2\" >low75</th>\n",
       "                        <td id=\"T_7bc486e8_091e_11eb_9cef_02420a3952aarow2_col0\" class=\"data row2 col0\" >8.54%</td>\n",
       "            </tr>\n",
       "            <tr>\n",
       "                        <th id=\"T_7bc486e8_091e_11eb_9cef_02420a3952aalevel0_row3\" class=\"row_heading level0 row3\" >more75</th>\n",
       "                        <td id=\"T_7bc486e8_091e_11eb_9cef_02420a3952aarow3_col0\" class=\"data row3 col0\" >7.48%</td>\n",
       "            </tr>\n",
       "    </tbody></table>"
      ],
      "text/plain": [
       "<pandas.io.formats.style.Styler at 0x7f1e6db2db90>"
      ]
     },
     "execution_count": 27,
     "metadata": {},
     "output_type": "execute_result"
    }
   ],
   "source": [
    "table2 = pd.pivot_table(debtor_data_clean, index=['income_category'], values = 'debt',  aggfunc='mean')\n",
    "format_dict = { 'debt': '{:.2%}'}\n",
    "table2.style.format(format_dict)"
   ]
  },
  {
   "cell_type": "code",
   "execution_count": 28,
   "metadata": {},
   "outputs": [
    {
     "name": "stdout",
     "output_type": "stream",
     "text": [
      "Квантиль 0.25: 107623.0\n",
      "Квантиль 0.50: 142594.0\n",
      "Квантиль 0.75: 195820.25\n"
     ]
    }
   ],
   "source": [
    "print('Квантиль 0.25:', quantile025)\n",
    "print('Квантиль 0.50:', quantile05)\n",
    "print('Квантиль 0.75:', quantile075)"
   ]
  },
  {
   "cell_type": "markdown",
   "metadata": {},
   "source": [
    "###### Вывод"
   ]
  },
  {
   "cell_type": "markdown",
   "metadata": {},
   "source": [
    "Между возвратом кредита в срок и уровнем дохода есть связь.\n",
    "\n",
    "- Заемщики с уровнем дохода меньше 107623.0 (квантиль 0,25 выборки) и больше 195820.25 (квантиль 0,75 выборки) на 1% реже возвращают кредит не в срок (7.96% и 7.48% должников, соответственно).\n",
    "- В остальных группах доля должников составляет в среднем 8.6%."
   ]
  },
  {
   "cell_type": "markdown",
   "metadata": {},
   "source": [
    "- Как разные цели кредита влияют на его возврат в срок?"
   ]
  },
  {
   "cell_type": "code",
   "execution_count": 29,
   "metadata": {},
   "outputs": [
    {
     "name": "stdout",
     "output_type": "stream",
     "text": [
      "purpose_words\n",
      "Образование           9.220035\n",
      "Покупка aвтомобиля    9.359034\n",
      "Покупка жилья         7.233373\n",
      "Свадьба               8.003442\n",
      "Name: debt, dtype: float64\n"
     ]
    }
   ],
   "source": [
    "debt_quantity_purpose = debtor_data_clean.groupby('purpose_words')['debt'].mean()*100\n",
    "print(debt_quantity_purpose)"
   ]
  },
  {
   "cell_type": "code",
   "execution_count": 30,
   "metadata": {},
   "outputs": [
    {
     "data": {
      "text/html": [
       "<style  type=\"text/css\" >\n",
       "</style><table id=\"T_7bd0c9e4_091e_11eb_9cef_02420a3952aa\" ><thead>    <tr>        <th class=\"blank level0\" ></th>        <th class=\"col_heading level0 col0\" >debt</th>    </tr>    <tr>        <th class=\"index_name level0\" >purpose_words</th>        <th class=\"blank\" ></th>    </tr></thead><tbody>\n",
       "                <tr>\n",
       "                        <th id=\"T_7bd0c9e4_091e_11eb_9cef_02420a3952aalevel0_row0\" class=\"row_heading level0 row0\" >Образование</th>\n",
       "                        <td id=\"T_7bd0c9e4_091e_11eb_9cef_02420a3952aarow0_col0\" class=\"data row0 col0\" >9.22%</td>\n",
       "            </tr>\n",
       "            <tr>\n",
       "                        <th id=\"T_7bd0c9e4_091e_11eb_9cef_02420a3952aalevel0_row1\" class=\"row_heading level0 row1\" >Покупка aвтомобиля</th>\n",
       "                        <td id=\"T_7bd0c9e4_091e_11eb_9cef_02420a3952aarow1_col0\" class=\"data row1 col0\" >9.36%</td>\n",
       "            </tr>\n",
       "            <tr>\n",
       "                        <th id=\"T_7bd0c9e4_091e_11eb_9cef_02420a3952aalevel0_row2\" class=\"row_heading level0 row2\" >Покупка жилья</th>\n",
       "                        <td id=\"T_7bd0c9e4_091e_11eb_9cef_02420a3952aarow2_col0\" class=\"data row2 col0\" >7.23%</td>\n",
       "            </tr>\n",
       "            <tr>\n",
       "                        <th id=\"T_7bd0c9e4_091e_11eb_9cef_02420a3952aalevel0_row3\" class=\"row_heading level0 row3\" >Свадьба</th>\n",
       "                        <td id=\"T_7bd0c9e4_091e_11eb_9cef_02420a3952aarow3_col0\" class=\"data row3 col0\" >8.00%</td>\n",
       "            </tr>\n",
       "    </tbody></table>"
      ],
      "text/plain": [
       "<pandas.io.formats.style.Styler at 0x7f1e6db12c90>"
      ]
     },
     "execution_count": 30,
     "metadata": {},
     "output_type": "execute_result"
    }
   ],
   "source": [
    "table2 = pd.pivot_table(debtor_data_clean, index=['purpose_words'], values = 'debt',  aggfunc='mean')\n",
    "format_dict = { 'debt': '{:.2%}'}\n",
    "table2.style.format(format_dict)"
   ]
  },
  {
   "cell_type": "markdown",
   "metadata": {},
   "source": [
    "###### Вывод"
   ]
  },
  {
   "cell_type": "markdown",
   "metadata": {},
   "source": [
    "Заемщики с целью покупки жилья имеют наименьшую долю задержек по кредитам (7.2%). Доля заемщиков с целью 'образование' и 'покупка автомобиля' с возвратом кредита не в срок больше примерно на 2% и составляет 9.2% и 9.4%, соответственно. Доля заемщиков с целью \"свадьба\", не возвративших кредит в срок - 8%."
   ]
  },
  {
   "cell_type": "markdown",
   "metadata": {},
   "source": [
    "<a id='the_destination_3'></a> "
   ]
  },
  {
   "cell_type": "markdown",
   "metadata": {},
   "source": [
    "## Общий вывод"
   ]
  },
  {
   "cell_type": "markdown",
   "metadata": {},
   "source": [
    "Целью проекта было разобраться влияет ли семейное положение и количество детей клиента на факт погашения кредита в срок. \n",
    "\n",
    "- Для работы с данными была проведена их подготовка: заменены некорректные значения, удалены нулевые значения и дубликаты. \n",
    "\n",
    "\n",
    "Заемщики, состоящие в официальных отношениях или ранее в них бывавшие реже гасят кредит позже срока. \n",
    "* Доля заемщиков, гасивших кредит не в срок в этой группе составляет 6.9%. Доля заемщиков, гасивших кредит позже срока с семейным положением \"не женат/ не замужем\" и \"в гражданском браке\" больше на 2.6% и составляет 9.5%.\n",
    "* Доля заемщиков гасивших кредит позже срока возрастает в случае наличия у него детей минимум на 0.7%. Для заемщиков без официально оформленных отношений наличие детей приводит к росту доли заемщиков, гасивших кредит не в срок на 2%. В группе же с официально оформленными отношениями или ранее в них бывавших и имеющих детей, процент заемщиков гасивших кредит не в срок увеличился на 1,3%."
   ]
  },
  {
   "cell_type": "code",
   "execution_count": null,
   "metadata": {},
   "outputs": [],
   "source": []
  }
 ],
 "metadata": {
  "kernelspec": {
   "display_name": "Python 3",
   "language": "python",
   "name": "python3"
  },
  "language_info": {
   "codemirror_mode": {
    "name": "ipython",
    "version": 3
   },
   "file_extension": ".py",
   "mimetype": "text/x-python",
   "name": "python",
   "nbconvert_exporter": "python",
   "pygments_lexer": "ipython3",
   "version": "3.7.6"
  }
 },
 "nbformat": 4,
 "nbformat_minor": 2
}
