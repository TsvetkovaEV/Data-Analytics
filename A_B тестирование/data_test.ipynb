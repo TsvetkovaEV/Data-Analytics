{
 "cells": [
  {
   "cell_type": "markdown",
   "metadata": {},
   "source": [
    "# Задание\n",
    "\n",
    "На главной странице Яндекса поменяли местами иконки \"Маркет\" и \"Карты\" над строкой поиска. \n",
    "Необходимо проверить повлияло ли изменение и стали ли пользователи чаще кликать на иконку \"Маркета\" по возвращению на сайт.\n",
    "\n",
    "\n",
    "1. Проверьте гипотезу о кликабельности иконки с помощью метрики CTR (click-through-rate). Для CTR дана формула, СTR  = количество кликов / количество сессий.\n",
    "\n",
    "2. Напишите выводы, которые можно сделать на основе анализа результатов"
   ]
  },
  {
   "cell_type": "markdown",
   "metadata": {},
   "source": [
    "# Выводы\n",
    "\n",
    "В ходе исследования проведен анализ кликабельности в контрольной и тестовой группе. \n",
    "\n",
    "Получено, что \n",
    "    - В группах А и В не изменилось распределение количества сессий на пользователя.\n",
    "    - Кликабельность в группах А и В не изменилась в обоих рассчитанных случаях: по всем пользователям в среднем и для  каждого пользователя с последующим нахождением среднего.  \n",
    "   \n",
    "    \n",
    "* Исследованные данные таковы, что на одну сессию может приходиться несколько кликов с разным id, поэтому показатель СTR в данном исследовании может быть больше 1. "
   ]
  },
  {
   "cell_type": "markdown",
   "metadata": {},
   "source": [
    "### Описание колонок данных\n",
    "\n",
    "- user_id – идентификатор пользователя\n",
    "- session_id – идентификатор сессии\n",
    "- click_id – идентификатор клика\n",
    "- experimentVariant – вариант эксперимента."
   ]
  },
  {
   "cell_type": "code",
   "execution_count": 61,
   "metadata": {},
   "outputs": [],
   "source": [
    "import pandas as pd\n",
    "\n",
    "import numpy as np\n",
    "import matplotlib\n",
    "import matplotlib.pyplot as plt\n",
    "from sklearn import datasets\n",
    "\n",
    "from scipy import stats as st\n",
    "from scipy.stats import shapiro\n",
    "from scipy.stats import mannwhitneyu\n",
    "from scipy.stats import ttest_ind\n",
    "from scipy.stats import levene\n",
    "\n",
    "import warnings\n",
    "warnings.filterwarnings(\"ignore\")\n",
    "\n",
    "import seaborn as sns\n",
    "sns.set_style(\"whitegrid\")"
   ]
  },
  {
   "cell_type": "code",
   "execution_count": null,
   "metadata": {},
   "outputs": [],
   "source": []
  },
  {
   "cell_type": "markdown",
   "metadata": {},
   "source": [
    "## Содержание исследования\n",
    "\n",
    "* [1. Знакомство с данными и их обработка](#the_destination)\n",
    "* [2. Исследовательский анализ данных](#the_destination_1)\n",
    "    * [2.1 Анализ количества сессий](#the_destination_1_1)\n",
    "    * [2.2 Анализ количества кликов по сессиям](#the_destination_1_2)\n",
    "* [3. Проверка гипотез ](#the_destination_2)\n",
    "     *  [3.1 Оценка результатов А/В теста по CTR ](#the_destination_2_1)\n",
    "     *  [3.2 Оценка результатов А/В теста по изменению количества кликов](#the_destination_2_2)\n",
    "* [4. Выводы](#the_destination_5)"
   ]
  },
  {
   "cell_type": "code",
   "execution_count": 3,
   "metadata": {
    "scrolled": true
   },
   "outputs": [],
   "source": [
    "data_test = pd.read_csv('C:\\\\Users\\\\Елена\\\\Documents\\\\Python Scripts\\\\case_ctr.csv', sep = ';')"
   ]
  },
  {
   "cell_type": "code",
   "execution_count": 4,
   "metadata": {},
   "outputs": [
    {
     "data": {
      "text/html": [
       "<div>\n",
       "<style scoped>\n",
       "    .dataframe tbody tr th:only-of-type {\n",
       "        vertical-align: middle;\n",
       "    }\n",
       "\n",
       "    .dataframe tbody tr th {\n",
       "        vertical-align: top;\n",
       "    }\n",
       "\n",
       "    .dataframe thead th {\n",
       "        text-align: right;\n",
       "    }\n",
       "</style>\n",
       "<table border=\"1\" class=\"dataframe\">\n",
       "  <thead>\n",
       "    <tr style=\"text-align: right;\">\n",
       "      <th></th>\n",
       "      <th>Unnamed: 0</th>\n",
       "      <th>user_id</th>\n",
       "      <th>session_id</th>\n",
       "      <th>click_id</th>\n",
       "      <th>experimentVariant</th>\n",
       "    </tr>\n",
       "  </thead>\n",
       "  <tbody>\n",
       "    <tr>\n",
       "      <td>508</td>\n",
       "      <td>509</td>\n",
       "      <td>01cff6d4d85a787f3648b025871f1e79</td>\n",
       "      <td>2c9095d5d5a3b16d510e8a16dc09c123</td>\n",
       "      <td>6dbfc0b4a3f4e23e8415d7c698c41e42</td>\n",
       "      <td>0</td>\n",
       "    </tr>\n",
       "    <tr>\n",
       "      <td>8555</td>\n",
       "      <td>8556</td>\n",
       "      <td>01cff6d4d85a787f3648b025871f1e79</td>\n",
       "      <td>2c9095d5d5a3b16d510e8a16dc09c123</td>\n",
       "      <td>a3063520aafb04556e28cc8c1f1432e3</td>\n",
       "      <td>0</td>\n",
       "    </tr>\n",
       "  </tbody>\n",
       "</table>\n",
       "</div>"
      ],
      "text/plain": [
       "      Unnamed: 0                           user_id  \\\n",
       "508          509  01cff6d4d85a787f3648b025871f1e79   \n",
       "8555        8556  01cff6d4d85a787f3648b025871f1e79   \n",
       "\n",
       "                            session_id                          click_id  \\\n",
       "508   2c9095d5d5a3b16d510e8a16dc09c123  6dbfc0b4a3f4e23e8415d7c698c41e42   \n",
       "8555  2c9095d5d5a3b16d510e8a16dc09c123  a3063520aafb04556e28cc8c1f1432e3   \n",
       "\n",
       "      experimentVariant  \n",
       "508                   0  \n",
       "8555                  0  "
      ]
     },
     "execution_count": 4,
     "metadata": {},
     "output_type": "execute_result"
    }
   ],
   "source": [
    "data_test[data_test['user_id'] == '01cff6d4d85a787f3648b025871f1e79']"
   ]
  },
  {
   "cell_type": "markdown",
   "metadata": {},
   "source": [
    "Интересное наблюдение в данных: для одного пользователя есть записи с одинаковыми сессиями, во время которых сделаны разные клики. Тогда интересно уточнить что является сессией и почему появляются разные клики, возможно такие записи правильно было бы удалить. "
   ]
  },
  {
   "cell_type": "markdown",
   "metadata": {},
   "source": [
    " "
   ]
  },
  {
   "cell_type": "markdown",
   "metadata": {},
   "source": [
    "<a id='the_destination'></a>\n",
    "# 1. Знакомство с данными и их обработка"
   ]
  },
  {
   "cell_type": "code",
   "execution_count": 5,
   "metadata": {},
   "outputs": [
    {
     "data": {
      "text/html": [
       "<div>\n",
       "<style scoped>\n",
       "    .dataframe tbody tr th:only-of-type {\n",
       "        vertical-align: middle;\n",
       "    }\n",
       "\n",
       "    .dataframe tbody tr th {\n",
       "        vertical-align: top;\n",
       "    }\n",
       "\n",
       "    .dataframe thead th {\n",
       "        text-align: right;\n",
       "    }\n",
       "</style>\n",
       "<table border=\"1\" class=\"dataframe\">\n",
       "  <thead>\n",
       "    <tr style=\"text-align: right;\">\n",
       "      <th></th>\n",
       "      <th>Unnamed: 0</th>\n",
       "      <th>user_id</th>\n",
       "      <th>session_id</th>\n",
       "      <th>click_id</th>\n",
       "      <th>experimentVariant</th>\n",
       "    </tr>\n",
       "  </thead>\n",
       "  <tbody>\n",
       "    <tr>\n",
       "      <td>0</td>\n",
       "      <td>1</td>\n",
       "      <td>4299b8c9c50c3e4e8a067f448426463e</td>\n",
       "      <td>08f9c3b0e2ff8da7bad6cc200fa735a2</td>\n",
       "      <td>56bcee80ce68ddc58c178a63288965b2</td>\n",
       "      <td>1</td>\n",
       "    </tr>\n",
       "    <tr>\n",
       "      <td>1</td>\n",
       "      <td>2</td>\n",
       "      <td>863829e0fc8e0dcd88f44c6a63db836a</td>\n",
       "      <td>d0ebf6ddaa8702e6de4e46854a1136ff</td>\n",
       "      <td>b209c6b14e91606a99d637ff6eb74cc6</td>\n",
       "      <td>1</td>\n",
       "    </tr>\n",
       "    <tr>\n",
       "      <td>2</td>\n",
       "      <td>3</td>\n",
       "      <td>640af3312483bea44b8159a8caaf0b3d</td>\n",
       "      <td>838c4a718830b5f1ac7be5e70745ff47</td>\n",
       "      <td>3f3d510c709ae5d9bae0331fcf776f3a</td>\n",
       "      <td>1</td>\n",
       "    </tr>\n",
       "    <tr>\n",
       "      <td>3</td>\n",
       "      <td>4</td>\n",
       "      <td>43de481cae63944b81db6fd5567a12bb</td>\n",
       "      <td>8f36aead1ceafb3e67f9957a7765549e</td>\n",
       "      <td>da73306047217a73a6ee0ea7477f2ad7</td>\n",
       "      <td>0</td>\n",
       "    </tr>\n",
       "    <tr>\n",
       "      <td>4</td>\n",
       "      <td>5</td>\n",
       "      <td>b84dd1a6c3df2e08eb7bef496cdf6d39</td>\n",
       "      <td>09799cdf1394b0e4b86ace899b7f218e</td>\n",
       "      <td>6e4b93932be600a5536c291888996037</td>\n",
       "      <td>1</td>\n",
       "    </tr>\n",
       "    <tr>\n",
       "      <td>5</td>\n",
       "      <td>6</td>\n",
       "      <td>29a558e6a92687597f5633a244686d88</td>\n",
       "      <td>d7c8ddd76cfec46860bf44c79762ef08</td>\n",
       "      <td>ffb8e4f073828c6efd6b8ae5691c6480</td>\n",
       "      <td>0</td>\n",
       "    </tr>\n",
       "    <tr>\n",
       "      <td>6</td>\n",
       "      <td>7</td>\n",
       "      <td>7298fc49124c18b8565b3cc26e2a226f</td>\n",
       "      <td>d3822f21862e2ea63705ca35301f716c</td>\n",
       "      <td>NaN</td>\n",
       "      <td>0</td>\n",
       "    </tr>\n",
       "    <tr>\n",
       "      <td>7</td>\n",
       "      <td>8</td>\n",
       "      <td>17d2974b38e8cfd7f887e7cca9c26339</td>\n",
       "      <td>37791965b026a6051134857e7e8810ce</td>\n",
       "      <td>5df86ba51acb5d8efc477dd1c1aa9639</td>\n",
       "      <td>1</td>\n",
       "    </tr>\n",
       "    <tr>\n",
       "      <td>8</td>\n",
       "      <td>9</td>\n",
       "      <td>0c7df63f3072b3852ce1f38b54c6516a</td>\n",
       "      <td>d00aafdf5fedb568ebe8a43aa662ad23</td>\n",
       "      <td>5508c8c411f08c97497e5484d639d570</td>\n",
       "      <td>0</td>\n",
       "    </tr>\n",
       "    <tr>\n",
       "      <td>9</td>\n",
       "      <td>10</td>\n",
       "      <td>eb1569d025bb1fac5041838401eb32cc</td>\n",
       "      <td>76c532a0e78ad21121b50ea835b834ec</td>\n",
       "      <td>255da89ab2382caa21d2917223524be7</td>\n",
       "      <td>1</td>\n",
       "    </tr>\n",
       "  </tbody>\n",
       "</table>\n",
       "</div>"
      ],
      "text/plain": [
       "   Unnamed: 0                           user_id  \\\n",
       "0           1  4299b8c9c50c3e4e8a067f448426463e   \n",
       "1           2  863829e0fc8e0dcd88f44c6a63db836a   \n",
       "2           3  640af3312483bea44b8159a8caaf0b3d   \n",
       "3           4  43de481cae63944b81db6fd5567a12bb   \n",
       "4           5  b84dd1a6c3df2e08eb7bef496cdf6d39   \n",
       "5           6  29a558e6a92687597f5633a244686d88   \n",
       "6           7  7298fc49124c18b8565b3cc26e2a226f   \n",
       "7           8  17d2974b38e8cfd7f887e7cca9c26339   \n",
       "8           9  0c7df63f3072b3852ce1f38b54c6516a   \n",
       "9          10  eb1569d025bb1fac5041838401eb32cc   \n",
       "\n",
       "                         session_id                          click_id  \\\n",
       "0  08f9c3b0e2ff8da7bad6cc200fa735a2  56bcee80ce68ddc58c178a63288965b2   \n",
       "1  d0ebf6ddaa8702e6de4e46854a1136ff  b209c6b14e91606a99d637ff6eb74cc6   \n",
       "2  838c4a718830b5f1ac7be5e70745ff47  3f3d510c709ae5d9bae0331fcf776f3a   \n",
       "3  8f36aead1ceafb3e67f9957a7765549e  da73306047217a73a6ee0ea7477f2ad7   \n",
       "4  09799cdf1394b0e4b86ace899b7f218e  6e4b93932be600a5536c291888996037   \n",
       "5  d7c8ddd76cfec46860bf44c79762ef08  ffb8e4f073828c6efd6b8ae5691c6480   \n",
       "6  d3822f21862e2ea63705ca35301f716c                               NaN   \n",
       "7  37791965b026a6051134857e7e8810ce  5df86ba51acb5d8efc477dd1c1aa9639   \n",
       "8  d00aafdf5fedb568ebe8a43aa662ad23  5508c8c411f08c97497e5484d639d570   \n",
       "9  76c532a0e78ad21121b50ea835b834ec  255da89ab2382caa21d2917223524be7   \n",
       "\n",
       "   experimentVariant  \n",
       "0                  1  \n",
       "1                  1  \n",
       "2                  1  \n",
       "3                  0  \n",
       "4                  1  \n",
       "5                  0  \n",
       "6                  0  \n",
       "7                  1  \n",
       "8                  0  \n",
       "9                  1  "
      ]
     },
     "execution_count": 5,
     "metadata": {},
     "output_type": "execute_result"
    }
   ],
   "source": [
    "data_test.head(10)"
   ]
  },
  {
   "cell_type": "code",
   "execution_count": 6,
   "metadata": {},
   "outputs": [
    {
     "name": "stdout",
     "output_type": "stream",
     "text": [
      "<class 'pandas.core.frame.DataFrame'>\n",
      "RangeIndex: 10000 entries, 0 to 9999\n",
      "Data columns (total 5 columns):\n",
      "Unnamed: 0           10000 non-null int64\n",
      "user_id              10000 non-null object\n",
      "session_id           10000 non-null object\n",
      "click_id             7655 non-null object\n",
      "experimentVariant    10000 non-null int64\n",
      "dtypes: int64(2), object(3)\n",
      "memory usage: 390.8+ KB\n"
     ]
    }
   ],
   "source": [
    "data_test.info()"
   ]
  },
  {
   "cell_type": "markdown",
   "metadata": {},
   "source": [
    "<span style=\"color:blue\"> **Незаполненные значения есть только в поле 'click_id', по-видимому связаны с тем, что клика во время сессии не было**."
   ]
  },
  {
   "cell_type": "code",
   "execution_count": 7,
   "metadata": {},
   "outputs": [
    {
     "data": {
      "text/plain": [
       "0"
      ]
     },
     "execution_count": 7,
     "metadata": {},
     "output_type": "execute_result"
    }
   ],
   "source": [
    "data_test.duplicated().sum()"
   ]
  },
  {
   "cell_type": "markdown",
   "metadata": {},
   "source": [
    "<span style=\"color:blue\"> **Дубликатов нет**."
   ]
  },
  {
   "cell_type": "code",
   "execution_count": 8,
   "metadata": {},
   "outputs": [
    {
     "data": {
      "text/html": [
       "<div>\n",
       "<style scoped>\n",
       "    .dataframe tbody tr th:only-of-type {\n",
       "        vertical-align: middle;\n",
       "    }\n",
       "\n",
       "    .dataframe tbody tr th {\n",
       "        vertical-align: top;\n",
       "    }\n",
       "\n",
       "    .dataframe thead th {\n",
       "        text-align: right;\n",
       "    }\n",
       "</style>\n",
       "<table border=\"1\" class=\"dataframe\">\n",
       "  <thead>\n",
       "    <tr style=\"text-align: right;\">\n",
       "      <th></th>\n",
       "      <th>Unnamed: 0</th>\n",
       "      <th>session_id</th>\n",
       "      <th>click_id</th>\n",
       "      <th>experimentVariant</th>\n",
       "    </tr>\n",
       "    <tr>\n",
       "      <th>user_id</th>\n",
       "      <th></th>\n",
       "      <th></th>\n",
       "      <th></th>\n",
       "      <th></th>\n",
       "    </tr>\n",
       "  </thead>\n",
       "  <tbody>\n",
       "    <tr>\n",
       "      <td>7567632792e6e5a2b1aadf2313891588</td>\n",
       "      <td>1</td>\n",
       "      <td>1</td>\n",
       "      <td>1</td>\n",
       "      <td>1</td>\n",
       "    </tr>\n",
       "    <tr>\n",
       "      <td>e5bcf9ece250382026990fd9ec0752d2</td>\n",
       "      <td>1</td>\n",
       "      <td>1</td>\n",
       "      <td>1</td>\n",
       "      <td>1</td>\n",
       "    </tr>\n",
       "    <tr>\n",
       "      <td>4f0b395b7fdd4824327ed50d33556943</td>\n",
       "      <td>1</td>\n",
       "      <td>1</td>\n",
       "      <td>0</td>\n",
       "      <td>1</td>\n",
       "    </tr>\n",
       "    <tr>\n",
       "      <td>4ebea0a7271bc70b83a9ec10a7009d6e</td>\n",
       "      <td>1</td>\n",
       "      <td>1</td>\n",
       "      <td>1</td>\n",
       "      <td>1</td>\n",
       "    </tr>\n",
       "    <tr>\n",
       "      <td>e4b7f13af5e2961448aa0229304ac3ee</td>\n",
       "      <td>1</td>\n",
       "      <td>1</td>\n",
       "      <td>1</td>\n",
       "      <td>1</td>\n",
       "    </tr>\n",
       "    <tr>\n",
       "      <td>...</td>\n",
       "      <td>...</td>\n",
       "      <td>...</td>\n",
       "      <td>...</td>\n",
       "      <td>...</td>\n",
       "    </tr>\n",
       "    <tr>\n",
       "      <td>b142f1491ca9555d60503685e333030d</td>\n",
       "      <td>12</td>\n",
       "      <td>12</td>\n",
       "      <td>11</td>\n",
       "      <td>12</td>\n",
       "    </tr>\n",
       "    <tr>\n",
       "      <td>c5b28eefd597185ff31411971d46d2ce</td>\n",
       "      <td>13</td>\n",
       "      <td>13</td>\n",
       "      <td>11</td>\n",
       "      <td>13</td>\n",
       "    </tr>\n",
       "    <tr>\n",
       "      <td>45f8c7d7bd3f733e7d75b74ae816aace</td>\n",
       "      <td>13</td>\n",
       "      <td>13</td>\n",
       "      <td>12</td>\n",
       "      <td>13</td>\n",
       "    </tr>\n",
       "    <tr>\n",
       "      <td>89d36a7f09ac2011f55d3ed1ee935b03</td>\n",
       "      <td>13</td>\n",
       "      <td>13</td>\n",
       "      <td>8</td>\n",
       "      <td>13</td>\n",
       "    </tr>\n",
       "    <tr>\n",
       "      <td>695c2184508d4b70afa1fc888905a2a7</td>\n",
       "      <td>13</td>\n",
       "      <td>13</td>\n",
       "      <td>10</td>\n",
       "      <td>13</td>\n",
       "    </tr>\n",
       "  </tbody>\n",
       "</table>\n",
       "<p>2246 rows × 4 columns</p>\n",
       "</div>"
      ],
      "text/plain": [
       "                                  Unnamed: 0  session_id  click_id  \\\n",
       "user_id                                                              \n",
       "7567632792e6e5a2b1aadf2313891588           1           1         1   \n",
       "e5bcf9ece250382026990fd9ec0752d2           1           1         1   \n",
       "4f0b395b7fdd4824327ed50d33556943           1           1         0   \n",
       "4ebea0a7271bc70b83a9ec10a7009d6e           1           1         1   \n",
       "e4b7f13af5e2961448aa0229304ac3ee           1           1         1   \n",
       "...                                      ...         ...       ...   \n",
       "b142f1491ca9555d60503685e333030d          12          12        11   \n",
       "c5b28eefd597185ff31411971d46d2ce          13          13        11   \n",
       "45f8c7d7bd3f733e7d75b74ae816aace          13          13        12   \n",
       "89d36a7f09ac2011f55d3ed1ee935b03          13          13         8   \n",
       "695c2184508d4b70afa1fc888905a2a7          13          13        10   \n",
       "\n",
       "                                  experimentVariant  \n",
       "user_id                                              \n",
       "7567632792e6e5a2b1aadf2313891588                  1  \n",
       "e5bcf9ece250382026990fd9ec0752d2                  1  \n",
       "4f0b395b7fdd4824327ed50d33556943                  1  \n",
       "4ebea0a7271bc70b83a9ec10a7009d6e                  1  \n",
       "e4b7f13af5e2961448aa0229304ac3ee                  1  \n",
       "...                                             ...  \n",
       "b142f1491ca9555d60503685e333030d                 12  \n",
       "c5b28eefd597185ff31411971d46d2ce                 13  \n",
       "45f8c7d7bd3f733e7d75b74ae816aace                 13  \n",
       "89d36a7f09ac2011f55d3ed1ee935b03                 13  \n",
       "695c2184508d4b70afa1fc888905a2a7                 13  \n",
       "\n",
       "[2246 rows x 4 columns]"
      ]
     },
     "execution_count": 8,
     "metadata": {},
     "output_type": "execute_result"
    }
   ],
   "source": [
    "data_test.groupby('user_id').count().sort_values('session_id')"
   ]
  },
  {
   "cell_type": "markdown",
   "metadata": {},
   "source": [
    "**Разделим данные на 2 таблицы с группой А (experimentVariant = 0) и группой В ((experimentVariant = 1)**."
   ]
  },
  {
   "cell_type": "code",
   "execution_count": 9,
   "metadata": {},
   "outputs": [],
   "source": [
    "groupA = data_test[data_test['experimentVariant'] == 0]"
   ]
  },
  {
   "cell_type": "code",
   "execution_count": 10,
   "metadata": {},
   "outputs": [],
   "source": [
    "groupB = data_test[data_test['experimentVariant'] == 1]"
   ]
  },
  {
   "cell_type": "code",
   "execution_count": 11,
   "metadata": {},
   "outputs": [
    {
     "name": "stdout",
     "output_type": "stream",
     "text": [
      "<class 'pandas.core.frame.DataFrame'>\n",
      "Int64Index: 5112 entries, 3 to 9996\n",
      "Data columns (total 5 columns):\n",
      "Unnamed: 0           5112 non-null int64\n",
      "user_id              5112 non-null object\n",
      "session_id           5112 non-null object\n",
      "click_id             3951 non-null object\n",
      "experimentVariant    5112 non-null int64\n",
      "dtypes: int64(2), object(3)\n",
      "memory usage: 239.6+ KB\n"
     ]
    }
   ],
   "source": [
    "groupA.info()"
   ]
  },
  {
   "cell_type": "code",
   "execution_count": 12,
   "metadata": {},
   "outputs": [
    {
     "name": "stdout",
     "output_type": "stream",
     "text": [
      "<class 'pandas.core.frame.DataFrame'>\n",
      "Int64Index: 4888 entries, 0 to 9999\n",
      "Data columns (total 5 columns):\n",
      "Unnamed: 0           4888 non-null int64\n",
      "user_id              4888 non-null object\n",
      "session_id           4888 non-null object\n",
      "click_id             3704 non-null object\n",
      "experimentVariant    4888 non-null int64\n",
      "dtypes: int64(2), object(3)\n",
      "memory usage: 229.1+ KB\n"
     ]
    }
   ],
   "source": [
    "groupB.info()"
   ]
  },
  {
   "cell_type": "markdown",
   "metadata": {},
   "source": [
    "**Определим количество уникальных пользователей в каждой группе**"
   ]
  },
  {
   "cell_type": "code",
   "execution_count": 13,
   "metadata": {},
   "outputs": [
    {
     "data": {
      "text/plain": [
       "1129"
      ]
     },
     "execution_count": 13,
     "metadata": {},
     "output_type": "execute_result"
    }
   ],
   "source": [
    "groupA['user_id'].nunique()"
   ]
  },
  {
   "cell_type": "code",
   "execution_count": 14,
   "metadata": {},
   "outputs": [
    {
     "data": {
      "text/plain": [
       "1117"
      ]
     },
     "execution_count": 14,
     "metadata": {},
     "output_type": "execute_result"
    }
   ],
   "source": [
    "groupB['user_id'].nunique()"
   ]
  },
  {
   "cell_type": "code",
   "execution_count": 15,
   "metadata": {},
   "outputs": [],
   "source": [
    "group = pd.merge(left=groupA, right=groupB, left_on='user_id', right_on='user_id')"
   ]
  },
  {
   "cell_type": "code",
   "execution_count": 16,
   "metadata": {},
   "outputs": [
    {
     "data": {
      "text/plain": [
       "(0, 9)"
      ]
     },
     "execution_count": 16,
     "metadata": {},
     "output_type": "execute_result"
    }
   ],
   "source": [
    "group.shape"
   ]
  },
  {
   "cell_type": "markdown",
   "metadata": {},
   "source": [
    "<span style=\"color:blue\">**Пользователи разбиты на примерно одинаковые группы для тестирования, разница составляет 4%, что допустимо при проведение А/B теста**.\n",
    "\n",
    "<span style=\"color:blue\">**Пользователей с одинаковым user_id в двух группах нет**. "
   ]
  },
  {
   "cell_type": "markdown",
   "metadata": {},
   "source": [
    "<a id='the_destination_1'></a> \n",
    "# 2. Исследовательский анализ данных"
   ]
  },
  {
   "cell_type": "markdown",
   "metadata": {},
   "source": [
    "<a id='the_destination_1_1'></a> \n",
    "**2.1 Определим, изменилось ли количесто сессий у пользователей в группах А и В. Также оценим наличие аномальных значений (выбросов) в количестве сессий у пользователей**"
   ]
  },
  {
   "cell_type": "code",
   "execution_count": 17,
   "metadata": {},
   "outputs": [],
   "source": [
    "A_sess = groupA.groupby('user_id')['session_id'].count().reset_index()"
   ]
  },
  {
   "cell_type": "code",
   "execution_count": 18,
   "metadata": {},
   "outputs": [],
   "source": [
    "A_sess_1 = A_sess.groupby('session_id').count().reset_index()"
   ]
  },
  {
   "cell_type": "code",
   "execution_count": 19,
   "metadata": {},
   "outputs": [],
   "source": [
    "B_sess = groupB.groupby('user_id')['session_id'].count().reset_index()"
   ]
  },
  {
   "cell_type": "code",
   "execution_count": 20,
   "metadata": {},
   "outputs": [],
   "source": [
    "B_sess_1 = B_sess.groupby('session_id').count().reset_index()"
   ]
  },
  {
   "cell_type": "code",
   "execution_count": 21,
   "metadata": {},
   "outputs": [
    {
     "data": {
      "text/plain": [
       "Text(0.5, 1.0, 'Распределение количества сессий на пользователя в группе В')"
      ]
     },
     "execution_count": 21,
     "metadata": {},
     "output_type": "execute_result"
    },
    {
     "data": {
      "image/png": "[encoded data removed]",
      "text/plain": [
       "<Figure size 432x288 with 1 Axes>"
      ]
     },
     "metadata": {},
     "output_type": "display_data"
    }
   ],
   "source": [
    "B_sess_1.boxplot('session_id')\n",
    "plt.title('Распределение количества сессий на пользователя в группе В')"
   ]
  },
  {
   "cell_type": "code",
   "execution_count": 22,
   "metadata": {},
   "outputs": [
    {
     "data": {
      "text/plain": [
       "Text(0.5, 1.0, 'Распределение количества сессий на пользователя в группе A')"
      ]
     },
     "execution_count": 22,
     "metadata": {},
     "output_type": "execute_result"
    },
    {
     "data": {
      "image/png": "[encoded data removed]",
      "text/plain": [
       "<Figure size 432x288 with 1 Axes>"
      ]
     },
     "metadata": {},
     "output_type": "display_data"
    }
   ],
   "source": [
    "A_sess_1.boxplot('session_id')\n",
    "plt.title('Распределение количества сессий на пользователя в группе A')"
   ]
  },
  {
   "cell_type": "markdown",
   "metadata": {},
   "source": [
    "<span style=\"color:blue\">**Аномальных значений в количестве сессий на пользователя в данных нет**"
   ]
  },
  {
   "cell_type": "code",
   "execution_count": 23,
   "metadata": {},
   "outputs": [
    {
     "data": {
      "text/plain": [
       "[<matplotlib.lines.Line2D at 0x1e3039f0708>,\n",
       " <matplotlib.lines.Line2D at 0x1e3039f0a08>]"
      ]
     },
     "execution_count": 23,
     "metadata": {},
     "output_type": "execute_result"
    },
    {
     "data": {
      "image/png": "[encoded data removed]",
      "text/plain": [
       "<Figure size 432x288 with 1 Axes>"
      ]
     },
     "metadata": {},
     "output_type": "display_data"
    }
   ],
   "source": [
    "plt.title('Зависимости для групп A, B') # заголовок\n",
    "plt.xlabel('Количество сессий') # ось абсцисс\n",
    "plt.ylabel('Количество пользователей') # ось ординат\n",
    "plt.legend(['A', 'B'])\n",
    "plt.plot(A_sess_1['session_id'], A_sess_1['user_id'], B_sess_1['session_id'], B_sess_1['user_id']) # построение графика"
   ]
  },
  {
   "cell_type": "markdown",
   "metadata": {},
   "source": [
    "<span style=\"color:blue\"> **Распределение количества сессий по количеству пользователей в группах А и В по графику очень близкое.**\n",
    " \n"
   ]
  },
  {
   "cell_type": "markdown",
   "metadata": {},
   "source": [
    "<a id='the_destination_1_2'></a>\n",
    "**2.2 Сравним как распределено количество кликов по сессиям в группах**"
   ]
  },
  {
   "cell_type": "code",
   "execution_count": 24,
   "metadata": {},
   "outputs": [],
   "source": [
    "A3 = groupA.groupby(['user_id','session_id'])['click_id'].count()\\\n",
    "  .reset_index()\\\n",
    "  .rename_axis([None], axis=1)"
   ]
  },
  {
   "cell_type": "code",
   "execution_count": 25,
   "metadata": {},
   "outputs": [],
   "source": [
    "B3 = groupB.groupby(['user_id','session_id'])['click_id'].count()\\\n",
    "  .reset_index()\\\n",
    "  .rename_axis([None], axis=1)"
   ]
  },
  {
   "cell_type": "code",
   "execution_count": 53,
   "metadata": {},
   "outputs": [
    {
     "data": {
      "text/plain": [
       "Text(0.5, 0.98, 'Распределение количества кликов за сессию')"
      ]
     },
     "execution_count": 53,
     "metadata": {},
     "output_type": "execute_result"
    },
    {
     "data": {
      "image/png": "[encoded data removed]",
      "text/plain": [
       "<Figure size 432x288 with 1 Axes>"
      ]
     },
     "metadata": {},
     "output_type": "display_data"
    }
   ],
   "source": [
    "sns.distplot(A3['click_id'], bins=range(0, 10), kde=False, norm_hist=True)\n",
    "\n",
    "plt.suptitle(\"Распределение количества кликов за сессию\")"
   ]
  },
  {
   "cell_type": "code",
   "execution_count": 52,
   "metadata": {},
   "outputs": [
    {
     "data": {
      "text/plain": [
       "Text(0.5, 0.98, 'Распределение количества кликов за сессию')"
      ]
     },
     "execution_count": 52,
     "metadata": {},
     "output_type": "execute_result"
    },
    {
     "data": {
      "image/png": "[encoded data removed]",
      "text/plain": [
       "<Figure size 432x288 with 1 Axes>"
      ]
     },
     "metadata": {},
     "output_type": "display_data"
    }
   ],
   "source": [
    "sns.distplot(B3['click_id'], bins=range(0, 10), kde=False, norm_hist=True)\n",
    "plt.suptitle(\"Распределение количества кликов за сессию\")"
   ]
  },
  {
   "cell_type": "markdown",
   "metadata": {},
   "source": [
    "<span style=\"color:blue\"> **В обеих группах близкое распределение количества кликов за сессию.**"
   ]
  },
  {
   "cell_type": "markdown",
   "metadata": {},
   "source": [
    "<a id='the_destination_2'></a>\n",
    "# 3. Проверка гипотез"
   ]
  },
  {
   "cell_type": "markdown",
   "metadata": {},
   "source": [
    "<a id='the_destination_2_1'></a>\n",
    "**3.1 Оценка результатов А/В теста по CTR**"
   ]
  },
  {
   "cell_type": "code",
   "execution_count": 27,
   "metadata": {},
   "outputs": [],
   "source": [
    "def count_metrics(X):\n",
    "    metric_cols = {\n",
    "        'session_cnt': X['session_id'].nunique(),\n",
    "        'clics_cnt': X['click_id'].nunique(),\n",
    "        'ctr_person': X['click_id'].nunique() / X['session_id'].nunique()}\n",
    "    return pd.Series(metric_cols)"
   ]
  },
  {
   "cell_type": "code",
   "execution_count": 28,
   "metadata": {},
   "outputs": [],
   "source": [
    "groupA_test = groupA.groupby(['user_id']).apply(count_metrics).reset_index()"
   ]
  },
  {
   "cell_type": "code",
   "execution_count": 29,
   "metadata": {},
   "outputs": [
    {
     "data": {
      "text/html": [
       "<div>\n",
       "<style scoped>\n",
       "    .dataframe tbody tr th:only-of-type {\n",
       "        vertical-align: middle;\n",
       "    }\n",
       "\n",
       "    .dataframe tbody tr th {\n",
       "        vertical-align: top;\n",
       "    }\n",
       "\n",
       "    .dataframe thead th {\n",
       "        text-align: right;\n",
       "    }\n",
       "</style>\n",
       "<table border=\"1\" class=\"dataframe\">\n",
       "  <thead>\n",
       "    <tr style=\"text-align: right;\">\n",
       "      <th></th>\n",
       "      <th>user_id</th>\n",
       "      <th>session_cnt</th>\n",
       "      <th>clics_cnt</th>\n",
       "      <th>ctr_person</th>\n",
       "    </tr>\n",
       "  </thead>\n",
       "  <tbody>\n",
       "    <tr>\n",
       "      <td>0</td>\n",
       "      <td>002919af9552c77035b1da1a23988191</td>\n",
       "      <td>7.0</td>\n",
       "      <td>6.0</td>\n",
       "      <td>0.857143</td>\n",
       "    </tr>\n",
       "    <tr>\n",
       "      <td>1</td>\n",
       "      <td>0036ea1469ecd0808170f942533513a2</td>\n",
       "      <td>5.0</td>\n",
       "      <td>3.0</td>\n",
       "      <td>0.600000</td>\n",
       "    </tr>\n",
       "    <tr>\n",
       "      <td>2</td>\n",
       "      <td>00b31c2f7dfc7b377abe7e1bd2ac060e</td>\n",
       "      <td>1.0</td>\n",
       "      <td>2.0</td>\n",
       "      <td>2.000000</td>\n",
       "    </tr>\n",
       "    <tr>\n",
       "      <td>3</td>\n",
       "      <td>01308b1cb36f52772b2ca6aa2fedd2e3</td>\n",
       "      <td>1.0</td>\n",
       "      <td>3.0</td>\n",
       "      <td>3.000000</td>\n",
       "    </tr>\n",
       "    <tr>\n",
       "      <td>4</td>\n",
       "      <td>014a6b3970d823d330a583d674e18f9c</td>\n",
       "      <td>5.0</td>\n",
       "      <td>3.0</td>\n",
       "      <td>0.600000</td>\n",
       "    </tr>\n",
       "    <tr>\n",
       "      <td>5</td>\n",
       "      <td>015b1d3aff22840c0941e2a4173e9dc7</td>\n",
       "      <td>1.0</td>\n",
       "      <td>6.0</td>\n",
       "      <td>6.000000</td>\n",
       "    </tr>\n",
       "    <tr>\n",
       "      <td>6</td>\n",
       "      <td>01772c1893135e1de7ab6715ec6f136d</td>\n",
       "      <td>5.0</td>\n",
       "      <td>4.0</td>\n",
       "      <td>0.800000</td>\n",
       "    </tr>\n",
       "    <tr>\n",
       "      <td>7</td>\n",
       "      <td>018408bc75dff5cdab735aa7fb326f0b</td>\n",
       "      <td>1.0</td>\n",
       "      <td>1.0</td>\n",
       "      <td>1.000000</td>\n",
       "    </tr>\n",
       "    <tr>\n",
       "      <td>8</td>\n",
       "      <td>0199e857f7f12436720817047ed14997</td>\n",
       "      <td>3.0</td>\n",
       "      <td>3.0</td>\n",
       "      <td>1.000000</td>\n",
       "    </tr>\n",
       "    <tr>\n",
       "      <td>9</td>\n",
       "      <td>01cff6d4d85a787f3648b025871f1e79</td>\n",
       "      <td>1.0</td>\n",
       "      <td>2.0</td>\n",
       "      <td>2.000000</td>\n",
       "    </tr>\n",
       "  </tbody>\n",
       "</table>\n",
       "</div>"
      ],
      "text/plain": [
       "                            user_id  session_cnt  clics_cnt  ctr_person\n",
       "0  002919af9552c77035b1da1a23988191          7.0        6.0    0.857143\n",
       "1  0036ea1469ecd0808170f942533513a2          5.0        3.0    0.600000\n",
       "2  00b31c2f7dfc7b377abe7e1bd2ac060e          1.0        2.0    2.000000\n",
       "3  01308b1cb36f52772b2ca6aa2fedd2e3          1.0        3.0    3.000000\n",
       "4  014a6b3970d823d330a583d674e18f9c          5.0        3.0    0.600000\n",
       "5  015b1d3aff22840c0941e2a4173e9dc7          1.0        6.0    6.000000\n",
       "6  01772c1893135e1de7ab6715ec6f136d          5.0        4.0    0.800000\n",
       "7  018408bc75dff5cdab735aa7fb326f0b          1.0        1.0    1.000000\n",
       "8  0199e857f7f12436720817047ed14997          3.0        3.0    1.000000\n",
       "9  01cff6d4d85a787f3648b025871f1e79          1.0        2.0    2.000000"
      ]
     },
     "execution_count": 29,
     "metadata": {},
     "output_type": "execute_result"
    }
   ],
   "source": [
    "groupA_test.head(10)"
   ]
  },
  {
   "cell_type": "code",
   "execution_count": 30,
   "metadata": {},
   "outputs": [],
   "source": [
    "groupB_test = groupB.groupby(['user_id']).apply(count_metrics).reset_index()"
   ]
  },
  {
   "cell_type": "code",
   "execution_count": 31,
   "metadata": {},
   "outputs": [
    {
     "data": {
      "text/plain": [
       "2.0712237349305553"
      ]
     },
     "execution_count": 31,
     "metadata": {},
     "output_type": "execute_result"
    }
   ],
   "source": [
    "groupA_test['ctr_person'].agg('mean')  "
   ]
  },
  {
   "cell_type": "code",
   "execution_count": 32,
   "metadata": {},
   "outputs": [
    {
     "data": {
      "text/plain": [
       "1.9811365795251201"
      ]
     },
     "execution_count": 32,
     "metadata": {},
     "output_type": "execute_result"
    }
   ],
   "source": [
    "groupB_test['ctr_person'].agg('mean')   "
   ]
  },
  {
   "cell_type": "code",
   "execution_count": 33,
   "metadata": {},
   "outputs": [
    {
     "data": {
      "text/plain": [
       "1.2343017806935332"
      ]
     },
     "execution_count": 33,
     "metadata": {},
     "output_type": "execute_result"
    }
   ],
   "source": [
    "groupA_ctr = groupA_test.clics_cnt.sum() / groupA_test.session_cnt.sum()\n",
    "groupA_ctr"
   ]
  },
  {
   "cell_type": "code",
   "execution_count": 34,
   "metadata": {},
   "outputs": [
    {
     "data": {
      "text/plain": [
       "1.2096668843892882"
      ]
     },
     "execution_count": 34,
     "metadata": {},
     "output_type": "execute_result"
    }
   ],
   "source": [
    "groupB_ctr = groupB_test.clics_cnt.sum() / groupB_test.session_cnt.sum()\n",
    "groupB_ctr"
   ]
  },
  {
   "cell_type": "code",
   "execution_count": 55,
   "metadata": {},
   "outputs": [
    {
     "data": {
      "text/plain": [
       "Text(0.5, 0.98, 'Распределение количества кликов за сессию')"
      ]
     },
     "execution_count": 55,
     "metadata": {},
     "output_type": "execute_result"
    },
    {
     "data": {
      "image/png": "[encoded data removed]",
      "text/plain": [
       "<Figure size 432x288 with 1 Axes>"
      ]
     },
     "metadata": {},
     "output_type": "display_data"
    }
   ],
   "source": [
    "sns.distplot(groupA_test['ctr_person'], bins=range(0, 10), kde=False, norm_hist=True)\n",
    "plt.suptitle(\"Распределение количества кликов за сессию\")"
   ]
  },
  {
   "cell_type": "code",
   "execution_count": 56,
   "metadata": {},
   "outputs": [
    {
     "data": {
      "text/plain": [
       "Text(0.5, 0.98, 'Распределение количества кликов за сессию')"
      ]
     },
     "execution_count": 56,
     "metadata": {},
     "output_type": "execute_result"
    },
    {
     "data": {
      "image/png": "[encoded data removed]",
      "text/plain": [
       "<Figure size 432x288 with 1 Axes>"
      ]
     },
     "metadata": {},
     "output_type": "display_data"
    }
   ],
   "source": [
    "sns.distplot(groupB_test['ctr_person'], bins=range(0, 10), kde=False, norm_hist=True)\n",
    "plt.suptitle(\"Распределение количества кликов за сессию\")"
   ]
  },
  {
   "cell_type": "markdown",
   "metadata": {},
   "source": [
    " Метрику СTR посчитали двумя способами:\n",
    "    * 1 - как среднее значение для всех пользователей\n",
    "         А: 1.23\n",
    "         В: 1.21\n",
    "    * 2 - для каждого пользователя в отдельности и затем нашли среднее\n",
    "         А: 2.07\n",
    "         В: 1.98\n",
    "          \n",
    " <span style=\"color:blue\">**Исходя из цифр, кликабельность в группах изменилась мало, но надо оценить статистическую значимость полученных результатов**. "
   ]
  },
  {
   "cell_type": "markdown",
   "metadata": {},
   "source": [
    "Для того, чтобы оценить статистическую значимость результата по метрике CTR, проведем линеаризацию. Необходимость в ней связана с тем, что метрика кликабельности зависит от двух переменных, которые могут быть распределены по разному. "
   ]
  },
  {
   "cell_type": "code",
   "execution_count": 35,
   "metadata": {},
   "outputs": [],
   "source": [
    "def linearization (x_0, y_0, x_1, y_1):\n",
    "    k = x_0.sum() / y_0.sum()\n",
    "    l_0 = x_0 - k * y_0\n",
    "    l_1 = x_1 - k * y_1\n",
    "    return l_0, l_1"
   ]
  },
  {
   "cell_type": "code",
   "execution_count": 36,
   "metadata": {},
   "outputs": [],
   "source": [
    "l_0, l_1 = linearization (groupA_test.clics_cnt, groupA_test.session_cnt, groupB_test.clics_cnt, groupB_test.session_cnt)"
   ]
  },
  {
   "cell_type": "markdown",
   "metadata": {},
   "source": [
    "Сформулируем нулевую гипотезу:\n",
    "   * H0: Средние значения двух выборок равны.\n",
    "   * H1: Средние значения двух выборок не равны."
   ]
  },
  {
   "cell_type": "code",
   "execution_count": 57,
   "metadata": {},
   "outputs": [
    {
     "name": "stdout",
     "output_type": "stream",
     "text": [
      "0.5496827925600947\n",
      "Нулевая гипотеза о равенстве средних значений двух выборок не может быть отклонена\n"
     ]
    }
   ],
   "source": [
    "alpha=.05\n",
    "stat, result1 = ttest_ind(l_0, l_1, equal_var = False)\n",
    "print(result1)\n",
    "if (result1 < alpha):\n",
    "    print('Средние значения двух выборок не равны')\n",
    "else:\n",
    "    print('Нулевая гипотеза о равенстве средних значений двух выборок не может быть отклонена')"
   ]
  },
  {
   "cell_type": "code",
   "execution_count": 58,
   "metadata": {},
   "outputs": [
    {
     "name": "stdout",
     "output_type": "stream",
     "text": [
      "0.2567490406565845\n",
      "Нулевая гипотеза о равенстве средних значений двух выборок не может быть отклонена\n"
     ]
    }
   ],
   "source": [
    "alpha=.05\n",
    "stat, result2 = ttest_ind(groupA_test.ctr_person, groupB_test.ctr_person, equal_var = False)\n",
    "print(result2)\n",
    "if (result2 < alpha):\n",
    "    print('Средние значения двух выборок не равны')\n",
    "else:\n",
    "    print('Нулевая гипотеза о равенстве средних значений двух выборок не может быть отклонена')"
   ]
  },
  {
   "cell_type": "markdown",
   "metadata": {},
   "source": [
    " <span style=\"color:blue\"> **При выбранном уровне значимости при любом способе расчета CTR кликабельность не изменилась**."
   ]
  },
  {
   "cell_type": "markdown",
   "metadata": {},
   "source": [
    "<a id='the_destination_5'></a>\n",
    "# 4. Выводы"
   ]
  },
  {
   "cell_type": "markdown",
   "metadata": {},
   "source": [
    "В ходе исследования проведен анализ кликабельности в контрольной и тестовой группе. Получено, что \n",
    "    - В группах А и В не изменилось распределение количества сессий на пользователя.\n",
    "    - Кликабельность в группах А и В не изменилась в обоих рассчитанных случаях: по всем пользователям в среднем и для каждого пользователя с последующим нахождением среднего. "
   ]
  },
  {
   "cell_type": "code",
   "execution_count": null,
   "metadata": {},
   "outputs": [],
   "source": []
  }
 ],
 "metadata": {
  "kernelspec": {
   "display_name": "Python 3",
   "language": "python",
   "name": "python3"
  },
  "language_info": {
   "codemirror_mode": {
    "name": "ipython",
    "version": 3
   },
   "file_extension": ".py",
   "mimetype": "text/x-python",
   "name": "python",
   "nbconvert_exporter": "python",
   "pygments_lexer": "ipython3",
   "version": "3.7.4"
  }
 },
 "nbformat": 4,
 "nbformat_minor": 2
}
